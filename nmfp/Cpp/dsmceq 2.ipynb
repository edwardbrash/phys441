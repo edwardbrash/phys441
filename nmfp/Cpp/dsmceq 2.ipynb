{
 "cells": [
  {
   "cell_type": "code",
   "execution_count": 1,
   "metadata": {},
   "outputs": [
    {
     "name": "stdout",
     "output_type": "stream",
     "text": [
      "Each particle represents  1342.3831070889894  atoms.\n",
      "Mean free path =  6.25844564603975e-08\n",
      "Suggested number of cells =  15.978408323043993\n",
      "19990.185043619545\n"
     ]
    }
   ],
   "source": [
    "import numpy as np\n",
    "import matplotlib.pyplot as plt\n",
    "import math\n",
    "\n",
    "from sortList import sortList\n",
    "from collider import collider\n",
    "from sorter import sorter\n",
    "\n",
    "#npart = int(input('Enter number of simulation particles: '))\n",
    "npart = 20000\n",
    "#nstep = int(input('Enter total number of timesteps: '))\n",
    "nstep = 200\n",
    "\n",
    "boltz = 1.3806E-23\n",
    "mass = 6.63E-26         # argon\n",
    "diam = 3.66E-10         # effective diameter\n",
    "T = 273.\n",
    "density = 1.78          # argon gas at STP in kg/m^3\n",
    "L = 1.0E-6              # system size = 1 micron^3\n",
    "\n",
    "nactual = density/mass*L**3\n",
    "eff_num = nactual/npart\n",
    "\n",
    "print('Each particle represents ',eff_num,' atoms.')\n",
    "\n",
    "lmbda = L**3/(math.sqrt(2.0)*nactual*math.pi*diam**2)\n",
    "print('Mean free path = ',lmbda)\n",
    "\n",
    "ncell_suggested = L/lmbda\n",
    "print('Suggested number of cells = ',ncell_suggested)\n",
    "\n",
    "np.random.seed(0)\n",
    "\n",
    "x = np.empty(npart)\n",
    "for i in range(npart):\n",
    "    x[i] = np.random.uniform(0.,L)\n",
    "v_init = np.sqrt(3.0*boltz*T/mass)\n",
    "v = np.zeros((npart,3))\n",
    "for i in range(npart):\n",
    "    v[i,0] = v_init * (1 - 2*np.floor(2.*np.random.random()))\n",
    "\n",
    "vmag = np.sqrt(v[:,0]**2+v[:,1]**2+v[:,2]**2)\n",
    "#plt.hist( vmag, bins=20, range=(0,1000) )\n",
    "#plt.title('Initial speed distributions')\n",
    "#plt.xlabel('Speed (m/s)')\n",
    "#plt.ylabel('N')\n",
    "#plt.show()\n",
    "\n",
    "# initialize varibles\n",
    "ncell = 16\n",
    "tau = 0.2*(L/ncell)/v_init\n",
    "vrmax = 3*v_init*np.ones(ncell)\n",
    "selxtra = np.zeros(ncell)\n",
    "\n",
    "coeff = 0.5*eff_num*np.pi*diam**2*tau/(L**3/ncell)\n",
    "coltot = 0\n",
    "\n",
    "sortData =  sortList(ncell,npart)\n",
    "\n",
    "for istep in range(nstep):\n",
    "    \n",
    "    x = x + v[:,0]*tau\n",
    "    x = np.remainder(x+L,L)\n",
    "\n",
    "    sorter(x,L,sortData)\n",
    "\n",
    "    col = collider(v,vrmax,tau,selxtra,coeff,sortData)\n",
    "    coltot = coltot + col\n",
    "\n",
    "vmag = np.sqrt(v[:,0]**2+v[:,1]**2+v[:,2]**2)\n",
    "\n",
    "# create M-B distribution to plot on top of histogram\n",
    "sums = 0.0\n",
    "pb = []\n",
    "vel = []\n",
    "for i in range(101):\n",
    "    vv=i*10\n",
    "    vel.append(vv)\n",
    "    pb.append(npart*10*4*math.pi*(math.sqrt(mass/(2*math.pi*boltz*T)))**3*vv*vv*math.exp(-0.5*mass*vv*vv/(boltz*T)))\n",
    "    sums = sums + pb[i]\n",
    "    \n",
    "print (sums)"
   ]
  },
  {
   "cell_type": "code",
   "execution_count": 2,
   "metadata": {},
   "outputs": [
    {
     "data": {
      "image/png": "[encoded data removed]",
      "text/plain": [
       "<Figure size 432x288 with 1 Axes>"
      ]
     },
     "metadata": {
      "needs_background": "light"
     },
     "output_type": "display_data"
    }
   ],
   "source": [
    "plt.hist( vmag, bins=101, range=(0,1000) )\n",
    "plt.plot(vel, pb, lw=2)\n",
    "plt.title('Final speed distributions')\n",
    "plt.xlabel('Speed (m/s)')\n",
    "plt.ylabel('N')\n",
    "plt.show()"
   ]
  },
  {
   "cell_type": "code",
   "execution_count": null,
   "metadata": {},
   "outputs": [],
   "source": []
  }
 ],
 "metadata": {
  "kernelspec": {
   "display_name": "Python 3",
   "language": "python",
   "name": "python3"
  },
  "language_info": {
   "codemirror_mode": {
    "name": "ipython",
    "version": 3
   },
   "file_extension": ".py",
   "mimetype": "text/x-python",
   "name": "python",
   "nbconvert_exporter": "python",
   "pygments_lexer": "ipython3",
   "version": "3.6.8"
  }
 },
 "nbformat": 4,
 "nbformat_minor": 2
}
