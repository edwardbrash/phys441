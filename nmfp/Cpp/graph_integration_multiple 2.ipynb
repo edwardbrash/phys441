{
 "cells": [
  {
   "cell_type": "code",
   "execution_count": 25,
   "metadata": {},
   "outputs": [],
   "source": [
    "import numpy as np\n",
    "import matplotlib.pyplot as plt\n",
    "\n",
    "import random"
   ]
  },
  {
   "cell_type": "code",
   "execution_count": 26,
   "metadata": {},
   "outputs": [],
   "source": [
    "def generator_function(x):\n",
    "    return 3.0/2.0*(1.0 - x*x)"
   ]
  },
  {
   "cell_type": "code",
   "execution_count": 27,
   "metadata": {},
   "outputs": [],
   "source": [
    "random.seed(1)"
   ]
  },
  {
   "cell_type": "code",
   "execution_count": 29,
   "metadata": {},
   "outputs": [
    {
     "name": "stdout",
     "output_type": "stream",
     "text": [
      "<module 'numpy' from '/usr/local/lib64/python3.6/site-packages/numpy/__init__.py'>\n",
      "<module 'numpy' from '/usr/local/lib64/python3.6/site-packages/numpy/__init__.py'>\n",
      "Integral = 1.005202 +/- 0.067923 for npoints = 100.000000\n",
      "Error = 0.005202\n",
      "Integral = 0.996567 +/- 0.014721 for npoints = 1000.000000\n",
      "Error = 0.003433\n",
      "Integral = 0.999890 +/- 0.003808 for npoints = 10000.000000\n",
      "Error = 0.000110\n",
      "Integral = 1.000049 +/- 0.001642 for npoints = 100000.000000\n",
      "Error = 0.000049\n",
      "Integral = 0.999931 +/- 0.000643 for npoints = 1000000.000000\n",
      "Error = 0.000069\n"
     ]
    }
   ],
   "source": [
    "max_order = 6\n",
    "min_order = 2\n",
    "nbins = 20\n",
    "\n",
    "norders = max_order - min_order + 1\n",
    "nbin = nbins\n",
    "\n",
    "npts = np.zeros(norders)\n",
    "print (np)\n",
    "enp = np.zeros(norders)\n",
    "sum2 = np.zeros(norders)\n",
    "esum2 = np.zeros(norders)\n",
    "esum3 = np.zeros(norders)\n",
    "np2 = np.zeros(norders)\n",
    "np3 = np.zeros(norders)\n",
    "\n",
    "print (np)\n",
    "\n",
    "sum = [[0 for x in range(0,nbin)] for y in range(0,norders)]\n",
    "\n",
    "for j in range(min_order,max_order+1):\n",
    "    npoints = 10**j\n",
    "    npts[j-min_order]=npoints\n",
    "    np2[j-min_order]=1.0/np.sqrt(npoints)\n",
    "    np3[j-min_order]=np.log(1.0*npoints)\n",
    "\n",
    "    for k in range(0,nbin):\n",
    "        xlow = 0.0\n",
    "        xhigh = 1.0\n",
    "        dx = (xhigh-xlow)/npoints\n",
    "        \n",
    "        for i in range(0,int(npoints)):\n",
    "            xval = xlow+random.random()*(xhigh-xlow)\n",
    "            yval = generator_function(xval)\n",
    "            sum[j-min_order][k] += dx*yval\n",
    "            \n",
    "    for k in range(0,nbin):\n",
    "        sum2[j-min_order] += sum[j-min_order][k]/nbin\n",
    "        \n",
    "    for k in range(0,nbin):\n",
    "        esum2[j-min_order] += (sum[j-min_order][k]-sum2[j-min_order])**2/nbin\n",
    "    \n",
    "    esum2[j-min_order]=np.sqrt(esum2[j-min_order])\n",
    "    print(\"Integral = %f +/- %f for npoints = %f\" %(sum2[j-min_order],esum2[j-min_order],npoints))\n",
    "    print(\"Error = %f\" %np.abs(1.0-sum2[j-min_order]))\n",
    "    esum3[j-min_order]=np.log(esum2[j-min_order])\n",
    "    \n",
    "    "
   ]
  },
  {
   "cell_type": "code",
   "execution_count": 34,
   "metadata": {},
   "outputs": [
    {
     "data": {
      "image/png": "[encoded data removed]",
      "text/plain": [
       "<Figure size 432x288 with 1 Axes>"
      ]
     },
     "metadata": {
      "needs_background": "light"
     },
     "output_type": "display_data"
    }
   ],
   "source": [
    "plt.errorbar(npts,sum2,xerr=enp,yerr=esum2,fmt='o')\n",
    "plt.xscale(\"log\")"
   ]
  },
  {
   "cell_type": "code",
   "execution_count": 36,
   "metadata": {},
   "outputs": [
    {
     "data": {
      "text/plain": [
       "[<matplotlib.lines.Line2D at 0x7f6a82cd62e8>]"
      ]
     },
     "execution_count": 36,
     "metadata": {},
     "output_type": "execute_result"
    },
    {
     "data": {
      "image/png": "[encoded data removed]",
      "text/plain": [
       "<Figure size 432x288 with 1 Axes>"
      ]
     },
     "metadata": {
      "needs_background": "light"
     },
     "output_type": "display_data"
    }
   ],
   "source": [
    "plt.plot(np3,esum3,'o')"
   ]
  },
  {
   "cell_type": "code",
   "execution_count": null,
   "metadata": {},
   "outputs": [],
   "source": []
  },
  {
   "cell_type": "code",
   "execution_count": null,
   "metadata": {
    "scrolled": true
   },
   "outputs": [],
   "source": []
  },
  {
   "cell_type": "code",
   "execution_count": null,
   "metadata": {},
   "outputs": [],
   "source": []
  },
  {
   "cell_type": "code",
   "execution_count": null,
   "metadata": {},
   "outputs": [],
   "source": []
  }
 ],
 "metadata": {
  "kernelspec": {
   "display_name": "Python 3",
   "language": "python",
   "name": "python3"
  },
  "language_info": {
   "codemirror_mode": {
    "name": "ipython",
    "version": 3
   },
   "file_extension": ".py",
   "mimetype": "text/x-python",
   "name": "python",
   "nbconvert_exporter": "python",
   "pygments_lexer": "ipython3",
   "version": "3.6.8"
  }
 },
 "nbformat": 4,
 "nbformat_minor": 2
}
