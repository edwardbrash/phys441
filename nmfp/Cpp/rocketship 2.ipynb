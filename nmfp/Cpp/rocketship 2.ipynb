{
 "cells": [
  {
   "cell_type": "markdown",
   "metadata": {},
   "source": [
    "The given parameters for the rocket are:\n",
    "\n",
    "M  = mass of the fuel\n",
    "\n",
    "bM = mass of the payload (0 < b < 1)\n",
    "\n",
    "u = ejection velocity of the rocket fuel (relative to the rocket)\n",
    "\n",
    "q = rate of fuel burning (kg/s)\n",
    "\n",
    "Thus the total mass of the rocket (fuel + payload) at time, t, is:\n",
    "\n",
    "$$ m_{total} = M(1 + b) - qt $$\n",
    "\n",
    "The net force on the rocket is:\n",
    "\n",
    "$$ F_{net} = \\frac{dp}{dt} = m\\frac{dv}{dt} + v\\frac{dm}{dt} $$\n",
    "\n",
    "$$ -m_{total}g = m_{total}a + (u)(-q) $$\n",
    "\n",
    "$$ a = -g + \\frac{uq}{m_{total}} = -g + \\frac{uq}{M(1+b) - qt} $$\n",
    "\n",
    "The velocity at time t is then given by:\n",
    "\n",
    "$$ v(t) = \\int_0^t a dt  = -gt + uq \\int_0^t \\frac{dt}{M(1+b) - qt} $$ \n",
    "\n",
    "$$ v(t) = -gt + uq \\left[ - \\frac{1}{q} ln(M(1+b) - qt) \\right]_0^t $$\n",
    "\n",
    "$$ v(t) = -gt + u\\cdot ln(M(1+b)) - u \\cdot ln(M(1+b)-qt) $$\n",
    "\n",
    "The position of the rocket at time t is then given by:\n",
    "\n",
    "$$ x(t) = -\\frac{1}{2}gt^2 + ut \\cdot ln(M(1+b)) -u \\int_0^t ln(M(1+b)-qt)) dt $$ \n",
    "\n",
    "$$ x(t) = -\\frac{1}{2}gt^2 + ut \\cdot ln(M(1+b)) -u \\left[ \\frac{M(1+b)}{q} ln(M(1+b)-qt) + t ln(M(1+b)-qt) - t   \\right]_0^t $$\n",
    "\n",
    "$$ x(t) = -\\frac{1}{2}gt^2 + ut \\cdot ln(M(1+b)) -u \\left[ -\\frac{M(1+b)}{q} ln(M(1+b)-qt) + t ln(M(1+b)-qt) -t +  \\frac{M(1+b)}{q} ln(M(1+b)) \\right] $$\n",
    "\n",
    "$$ x(t) = -\\frac{1}{2}gt^2 + ut \\cdot ln(M(1+b)) + \\frac{uM(1+b)}{q} ln(M(1+b)-qt) - ut\\cdot ln(M(1+b)-qt) + ut - \\frac{uM(1+b)}{q} ln(M(1+b)) $$\n",
    "\n",
    "$$ x(t) = -\\frac{1}{2}gt^2 + ln(M(1+b))[ ut - \\frac{uM(1+b)}{q} ] - ln(M(1+b)-qt) [ ut - \\frac{uM(1+b)}{q} ] + ut $$\n",
    "\n",
    "$$ x(t) = -\\frac{1}{2}gt^2 - u \\cdot ln \\left(\\frac{M(1+b)}{M(1+b)-qt}\\right) \\left[ \\frac{M(1+b)-qt}{q} \\right] + ut $$\n",
    "\n",
    "When the rocket fuel is spent, the total mass will be just the payload mass:\n",
    "\n",
    "$$ m_{total} = bM $$\n",
    "\n",
    "$$ M(1+b)-qt = bM $$\n",
    "\n",
    "$$ t = \\frac{M}{q} $$\n",
    "\n",
    "At this time, the velocity will be:\n",
    "\n",
    "$$ v(M/q) = -\\frac{gM}{q} + u\\cdot ln(M(1+b)) - u \\cdot ln(bM) $$\n",
    "\n",
    "$$ v(M/q) = -\\frac{gM}{q} + u\\cdot ln(\\frac{1+b}{b})$$\n",
    "\n",
    "and the position will be:\n",
    "\n",
    "$$ x(M/q) = -\\frac{gM^2}{2q^2} + \\frac{uM}{q} \\left[ 1 - b\\cdot ln \\left(\\frac{1+b}{b}\\right) \\right] $$\n"
   ]
  },
  {
   "cell_type": "code",
   "execution_count": 1,
   "metadata": {},
   "outputs": [
    {
     "name": "stdout",
     "output_type": "stream",
     "text": [
      "Final velocity =  1148.2794158085144\n",
      "Final position =  17554.233609840383\n"
     ]
    }
   ],
   "source": [
    "import math\n",
    "import matplotlib.pyplot as plt\n",
    "\n",
    "def vel(g,M,b,u,q,t):\n",
    "    c = M*(1+b)\n",
    "    m = c - q*t\n",
    "    return u*(math.log(c)-math.log(m))-g*t\n",
    "\n",
    "def pos(g,M,b,u,q,t):\n",
    "    c = M*(1+b)\n",
    "    m = c - q*t\n",
    "    return -0.5*g*t*t + u*t - m*u/q*math.log(c/m)\n",
    "    \n",
    "g = 9.805\n",
    "M = 1.50E+07\n",
    "b = 0.12\n",
    "u = 1200.0\n",
    "q = 9.6E+04\n",
    "\n",
    "t = M/q\n",
    "\n",
    "print (\"Final velocity = \", vel(g,M,b,u,q,t))\n",
    "print (\"Final position = \", pos(g,M,b,u,q,t))"
   ]
  },
  {
   "cell_type": "code",
   "execution_count": 5,
   "metadata": {},
   "outputs": [
    {
     "data": {
      "image/png": "[encoded data removed]",
      "text/plain": [
       "<Figure size 864x576 with 2 Axes>"
      ]
     },
     "metadata": {
      "needs_background": "light"
     },
     "output_type": "display_data"
    }
   ],
   "source": [
    "v = []\n",
    "x = []\n",
    "time = []\n",
    "for i in range(1001):\n",
    "    t = 1.0*i/1000.0*M/q\n",
    "    time.append(t)\n",
    "    v.append(vel(g,M,b,u,q,t))\n",
    "    x.append(pos(g,M,b,u,q,t))\n",
    "\n",
    "plt.rcParams['figure.figsize'] = [12, 8]\n",
    "fig, axes = plt.subplots(nrows=1, ncols=2)\n",
    "axes[0].plot(time,v,'--')\n",
    "axes[1].plot(time,x,'-')\n",
    "\n",
    "\n",
    "plt.show()"
   ]
  },
  {
   "cell_type": "code",
   "execution_count": 3,
   "metadata": {},
   "outputs": [
    {
     "name": "stdout",
     "output_type": "stream",
     "text": [
      "370.0208610084992\n"
     ]
    }
   ],
   "source": [
    "ve = 11200.0 # escape velocity\n",
    "\n",
    "fraction = math.exp((ve+g*M/q)/u)\n",
    "b_max = 1.0/(fraction-1)\n",
    "payload_max = b_max*M\n",
    "\n",
    "print (payload_max)"
   ]
  },
  {
   "cell_type": "code",
   "execution_count": null,
   "metadata": {},
   "outputs": [],
   "source": []
  }
 ],
 "metadata": {
  "kernelspec": {
   "display_name": "Python 3",
   "language": "python",
   "name": "python3"
  },
  "language_info": {
   "codemirror_mode": {
    "name": "ipython",
    "version": 3
   },
   "file_extension": ".py",
   "mimetype": "text/x-python",
   "name": "python",
   "nbconvert_exporter": "python",
   "pygments_lexer": "ipython3",
   "version": "3.6.8"
  }
 },
 "nbformat": 4,
 "nbformat_minor": 2
}
