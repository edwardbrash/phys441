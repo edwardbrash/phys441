{
 "cells": [
  {
   "cell_type": "code",
   "execution_count": 1,
   "metadata": {},
   "outputs": [
    {
     "name": "stdout",
     "output_type": "stream",
     "text": [
      "Welcome to JupyROOT 6.16/00\n"
     ]
    }
   ],
   "source": [
    "from ROOT import TCanvas, TFile\n",
    "from ROOT import TGraph, TF1, TGraphErrors\n",
    "from ROOT import gStyle\n",
    "from array import array\n",
    "import math\n",
    "import numpy as np\n",
    "import random\n",
    "\n",
    "c1 = TCanvas( 'c1', 'Fitting Example with Errors', 200, 10, 700, 500 )\n",
    "c1.SetGridx()\n",
    "c1.SetGridy()\n",
    "c1.GetFrame().SetFillColor( 21 )\n",
    "c1.GetFrame().SetBorderMode(-1 )\n",
    "c1.GetFrame().SetBorderSize( 5 )"
   ]
  },
  {
   "cell_type": "code",
   "execution_count": 2,
   "metadata": {},
   "outputs": [],
   "source": [
    "def generator_function(x,par):\n",
    "    return par[0]+par[1]*x+par[2]*x*x+par[3]*x*x*x\n",
    "\n",
    "par = array('d')\n",
    "par.append(0.4321)\n",
    "par.append(1.6789)\n",
    "par.append(0.50)\n",
    "par.append(1.0000)"
   ]
  },
  {
   "cell_type": "code",
   "execution_count": 3,
   "metadata": {},
   "outputs": [],
   "source": [
    "gStyle.SetOptFit(1)\n",
    "m = 2 #Set the order of the polynomial\n",
    "n = 15 #Set the number of data points"
   ]
  },
  {
   "cell_type": "code",
   "execution_count": 4,
   "metadata": {},
   "outputs": [],
   "source": [
    "x = array('d')\n",
    "y = array('d')\n",
    "ex = array('d')\n",
    "ey = array('d')"
   ]
  },
  {
   "cell_type": "code",
   "execution_count": 5,
   "metadata": {},
   "outputs": [],
   "source": [
    "for i in range(0,n):\n",
    "    x.append(i+1)\n",
    "    y.append(generator_function(x[i],par) + 10.0*random.gauss(0.0,1.0))\n",
    "    ex.append(0.0)\n",
    "    ey.append(5.0*math.sqrt(math.fabs(y[i])))"
   ]
  },
  {
   "cell_type": "code",
   "execution_count": 6,
   "metadata": {},
   "outputs": [],
   "source": [
    "m_params = m + 1\n",
    "a = np.zeros(shape = (m_params,m_params))\n",
    "v = np.zeros(shape = (m_params,1))"
   ]
  },
  {
   "cell_type": "code",
   "execution_count": 7,
   "metadata": {},
   "outputs": [
    {
     "name": "stdout",
     "output_type": "stream",
     "text": [
      "Cofactor matrix:\n",
      "[[0.01776006 0.02839812 0.08540586]\n",
      " [0.02839812 0.08540586 0.50505615]\n",
      " [0.08540586 0.50505615 4.41616702]]\n",
      "Constant matrix:\n",
      "[[ 0.52]\n",
      " [ 4.72]\n",
      " [49.52]]\n",
      "Inverse matrix\n",
      "[[ 281.47699375 -189.69457199   16.25088566]\n",
      " [-189.69457199  164.01297905  -15.08881691]\n",
      " [  16.25088566  -15.08881691    1.6377956 ]]\n",
      "Diagonal Check:\n",
      "[[ 1.00000000e+00 -1.11813332e-15 -4.27555345e-18]\n",
      " [ 1.78920919e-15  1.00000000e+00  1.20544991e-17]\n",
      " [ 4.86797906e-15 -4.83626318e-17  1.00000000e+00]]\n",
      "Coefficients:\n",
      "[[ 55.75351476]\n",
      " [-71.69812971]\n",
      " [ 18.33488273]]\n"
     ]
    }
   ],
   "source": [
    "for k in range(0,m_params):\n",
    "    for i in range(0,n):\n",
    "        v[k][0]=v[k][0]+y[i]*math.pow(x[i],k)/math.pow(ey[i],2)\n",
    "    #print (\"v[%d] = %f\" % (k,v[k][0]))\n",
    "    for j in range(0,m_params):\n",
    "        for i in range(0,n):\n",
    "            a[k][j]=a[k][j]+math.pow(x[i],k+j)/math.pow(ey[i],2)\n",
    "        #print (\"a[%d][%d] = %f\" %(k,j,a[k][j]))\n",
    "        \n",
    "print (\"Cofactor matrix:\")\n",
    "print (a)\n",
    "print (\"Constant matrix:\")\n",
    "print (v)\n",
    "\n",
    "ainv = np.linalg.inv(a)\n",
    "u1 = np.dot(a,ainv)\n",
    "\n",
    "print (\"Inverse matrix\")\n",
    "print (ainv)\n",
    "print (\"Diagonal Check:\")\n",
    "print (u1)\n",
    "coeff = ainv*np.matrix(v)\n",
    "print (\"Coefficients:\")\n",
    "print (coeff)\n",
    "        "
   ]
  },
  {
   "cell_type": "code",
   "execution_count": 8,
   "metadata": {},
   "outputs": [
    {
     "name": "stdout",
     "output_type": "stream",
     "text": [
      "i = 0  y = -2.967199  yfit = 2.390268\n",
      "i = 1  y = 21.868525  yfit = -14.303214\n",
      "i = 2  y = 37.789131  yfit = 5.673070\n",
      "i = 3  y = 70.401230  yfit = 62.319120\n",
      "i = 4  y = 137.207130  yfit = 155.634935\n",
      "i = 5  y = 232.089432  yfit = 285.620515\n",
      "i = 6  y = 373.557215  yfit = 452.275861\n",
      "i = 7  y = 558.199767  yfit = 655.600972\n",
      "i = 8  y = 797.179562  yfit = 895.595849\n",
      "i = 9  y = 1063.848173  yfit = 1172.260491\n",
      "i = 10  y = 1406.044467  yfit = 1485.594899\n",
      "i = 11  y = 1818.294803  yfit = 1835.599072\n",
      "i = 12  y = 2302.665751  yfit = 2222.273010\n",
      "i = 13  y = 2861.115674  yfit = 2645.616715\n",
      "i = 14  y = 3522.037515  yfit = 3105.630184\n",
      "chi2/dof = 9.690575 / 12.000000\n"
     ]
    }
   ],
   "source": [
    "yfit = 0\n",
    "error_sum = 0\n",
    "for j in range(0,n):\n",
    "    for k in range(0,m+1):\n",
    "        yfit = yfit + coeff[k]*math.pow(x[j],k)\n",
    "    print (\"i = %d  y = %f  yfit = %f\" % (j,y[j],yfit))\n",
    "    error_sum = error_sum + math.pow(((yfit-y[j])/ey[j]),2)\n",
    "    yfit = 0\n",
    "    \n",
    "chi2 = error_sum/(n-m)\n",
    "print (\"chi2/dof = %f / %f\" % (error_sum,(n-m-1)))"
   ]
  },
  {
   "cell_type": "code",
   "execution_count": 9,
   "metadata": {},
   "outputs": [
    {
     "name": "stdout",
     "output_type": "stream",
     "text": [
      "Coefficients with Errors:\n",
      "p0 = 55.753515 +/- 16.777276\n",
      "p1 = -71.698130 +/- 12.806755\n",
      "p2 = 18.334883 +/- 1.279764\n"
     ]
    }
   ],
   "source": [
    "print (\"Coefficients with Errors:\")\n",
    "for k in range(0,m+1):\n",
    "    print(\"p%d = %f +/- %f\" % (k,coeff[k],math.pow(ainv[k][k],0.5)))"
   ]
  },
  {
   "cell_type": "code",
   "execution_count": 10,
   "metadata": {},
   "outputs": [
    {
     "name": "stdout",
     "output_type": "stream",
     "text": [
      "pol2\n",
      "Fit 1: 9.690575 12.000000 \n",
      "\n"
     ]
    },
    {
     "data": {
      "image/png": "[encoded data removed]",
      "text/plain": [
       "<IPython.core.display.Image object>"
      ]
     },
     "metadata": {},
     "output_type": "display_data"
    }
   ],
   "source": [
    "poltype = \"pol\"+str(m)\n",
    "print (poltype)\n",
    "gr = TGraphErrors(n,x,y,ex,ey)\n",
    "pfit1 = TF1(\"pfit1\",poltype)\n",
    "gr.SetMarkerStyle(21)\n",
    "gr.SetTitle(\"Cubic Fit\")\n",
    "gr.GetXaxis().SetTitle(\"X\")\n",
    "gr.GetYaxis().SetTitle(\"Y\")\n",
    "gr.Fit(\"pfit1\",\"q\")\n",
    "pfit1chi2 = pfit1.GetChisquare()\n",
    "pfit1ndf = pfit1.GetNDF()\n",
    "pfit1chi2ndf = pfit1chi2/pfit1ndf\n",
    "print(\"Fit 1: %f %f \\n\" % (pfit1chi2,pfit1ndf))\n",
    "gr.Draw(\"AP\")\n",
    "c1.Draw()"
   ]
  },
  {
   "cell_type": "code",
   "execution_count": null,
   "metadata": {},
   "outputs": [],
   "source": []
  },
  {
   "cell_type": "code",
   "execution_count": null,
   "metadata": {},
   "outputs": [],
   "source": []
  }
 ],
 "metadata": {
  "kernelspec": {
   "display_name": "Python 3",
   "language": "python",
   "name": "python3"
  },
  "language_info": {
   "codemirror_mode": {
    "name": "ipython",
    "version": 3
   },
   "file_extension": ".py",
   "mimetype": "text/x-python",
   "name": "python",
   "nbconvert_exporter": "python",
   "pygments_lexer": "ipython3",
   "version": "3.7.3"
  }
 },
 "nbformat": 4,
 "nbformat_minor": 2
}
