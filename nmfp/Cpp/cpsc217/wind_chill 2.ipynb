{
 "cells": [
  {
   "cell_type": "code",
   "execution_count": 1,
   "metadata": {},
   "outputs": [],
   "source": [
    "import math"
   ]
  },
  {
   "cell_type": "code",
   "execution_count": 2,
   "metadata": {},
   "outputs": [
    {
     "name": "stdout",
     "output_type": "stream",
     "text": [
      "Enter the temperatue in degrees Celsius (less than 10C): -20\n",
      "Enter the windspeed in kph (greater than 4.8 kph): 36\n"
     ]
    }
   ],
   "source": [
    "t = input('Enter the temperatue in degrees Celsius (less than 10C): ')\n",
    "v = input('Enter the windspeed in kph (greater than 4.8 kph): ')"
   ]
  },
  {
   "cell_type": "code",
   "execution_count": 3,
   "metadata": {},
   "outputs": [
    {
     "name": "stdout",
     "output_type": "stream",
     "text": [
      "WCI = -48\n",
      "Exiting ... bye!\n"
     ]
    }
   ],
   "source": [
    "while True:\n",
    "    try:\n",
    "        tt = float(t)\n",
    "        vv = float(v)\n",
    "        if vv<4.8:\n",
    "            print (\"Wind speed must be greater than or equal 4.8 kph!!!\")\n",
    "            break\n",
    "        if tt>10.0:\n",
    "            print (\"Temperature must be less than 10.0 degrees Celsius!!!\")\n",
    "            break\n",
    "        \n",
    "        wc = 13.12 + 0.6215*tt - 11.37*math.pow(vv,0.16) + 0.3965*tt*math.pow(vv,0.36)\n",
    "        wci = int(round(wc))\n",
    "            \n",
    "        print(\"WCI = %d\" % wci)\n",
    "        break\n",
    "    except ValueError:\n",
    "        print(\"The temperature and wind speeed must be real numbers!!!\")\n",
    "        break\n",
    "    \n",
    "print('Exiting ... bye!')\n"
   ]
  },
  {
   "cell_type": "code",
   "execution_count": null,
   "metadata": {},
   "outputs": [],
   "source": []
  },
  {
   "cell_type": "code",
   "execution_count": null,
   "metadata": {},
   "outputs": [],
   "source": []
  }
 ],
 "metadata": {
  "kernelspec": {
   "display_name": "Python 3",
   "language": "python",
   "name": "python3"
  },
  "language_info": {
   "codemirror_mode": {
    "name": "ipython",
    "version": 3
   },
   "file_extension": ".py",
   "mimetype": "text/x-python",
   "name": "python",
   "nbconvert_exporter": "python",
   "pygments_lexer": "ipython3",
   "version": "3.7.3"
  }
 },
 "nbformat": 4,
 "nbformat_minor": 2
}
