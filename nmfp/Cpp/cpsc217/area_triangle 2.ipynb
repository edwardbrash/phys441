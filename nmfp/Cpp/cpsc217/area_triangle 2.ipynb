{
 "cells": [
  {
   "cell_type": "code",
   "execution_count": 74,
   "metadata": {},
   "outputs": [
    {
     "name": "stdout",
     "output_type": "stream",
     "text": [
      "Enter the base of the triangle: 1.3\n",
      "Enter the height of the triangle: catdw\n",
      "The values must be real numbers!!\n",
      "Exiting ... bye!\n"
     ]
    }
   ],
   "source": [
    "import math\n",
    "\n",
    "b1 = input('Enter the base of the triangle: ')\n",
    "h1 = input('Enter the height of the triangle: ')\n",
    "\n",
    "while True:\n",
    "    try:\n",
    "        b = float(b1)\n",
    "        if b<=0:\n",
    "            print (\"The base must be greater than zero!!\")\n",
    "            break\n",
    "        h = float(h1)\n",
    "        if h<=0:\n",
    "            print (\"The height must be greater than zero!!\")\n",
    "            break\n",
    "       \n",
    "        area = 0.5*b*h\n",
    "        print (\"The area of a triangle withe base, %f, and height, %f, is %f.\" % (b,h,area))\n",
    "        \n",
    "        break\n",
    "    except ValueError:\n",
    "        print(\"The values must be real numbers!!\")\n",
    "        break\n",
    "    \n",
    "print('Exiting ... bye!')"
   ]
  },
  {
   "cell_type": "code",
   "execution_count": null,
   "metadata": {},
   "outputs": [],
   "source": []
  },
  {
   "cell_type": "code",
   "execution_count": null,
   "metadata": {},
   "outputs": [],
   "source": []
  },
  {
   "cell_type": "code",
   "execution_count": null,
   "metadata": {},
   "outputs": [],
   "source": []
  },
  {
   "cell_type": "code",
   "execution_count": null,
   "metadata": {},
   "outputs": [],
   "source": []
  },
  {
   "cell_type": "code",
   "execution_count": null,
   "metadata": {},
   "outputs": [],
   "source": []
  },
  {
   "cell_type": "code",
   "execution_count": null,
   "metadata": {},
   "outputs": [],
   "source": []
  }
 ],
 "metadata": {
  "kernelspec": {
   "display_name": "Python 3",
   "language": "python",
   "name": "python3"
  },
  "language_info": {
   "codemirror_mode": {
    "name": "ipython",
    "version": 3
   },
   "file_extension": ".py",
   "mimetype": "text/x-python",
   "name": "python",
   "nbconvert_exporter": "python",
   "pygments_lexer": "ipython3",
   "version": "3.7.3"
  }
 },
 "nbformat": 4,
 "nbformat_minor": 2
}
