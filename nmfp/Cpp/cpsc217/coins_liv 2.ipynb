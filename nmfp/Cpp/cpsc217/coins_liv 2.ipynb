{
 "cells": [
  {
   "cell_type": "code",
   "execution_count": 18,
   "metadata": {},
   "outputs": [
    {
     "name": "stdout",
     "output_type": "stream",
     "text": [
      "Enter the number of cents375\n",
      "For a total of 375 cents, the change is 1 toonies, 1 loonies, 3 quarters, 0 dimes, 0 nickels, and 0 pennies\n"
     ]
    }
   ],
   "source": [
    "import math\n",
    "\n",
    "coins = [200,100,25,10,5,1]\n",
    "ncoins = [0,0,0,0,0,0]\n",
    "\n",
    "money = input('Enter the number of cents')\n",
    "try:\n",
    "    val = int(money)\n",
    "    index = 0\n",
    "    while val > 0:\n",
    "        if (val - coins[index]) >= 0:\n",
    "            val = val - coins[index]\n",
    "            ncoins[index] = ncoins[index] + 1\n",
    "            #print (index,val,coins[index],ncoins[index])\n",
    "        else:\n",
    "            index = index + 1\n",
    "            \n",
    "    print (\"For a total of %d cents, the change is %d toonies, %d loonies, %d quarters, %d dimes, %d nickels, and %d pennies\" % (int(money),ncoins[0],ncoins[1],ncoins[2],ncoins[3],ncoins[4],ncoins[5]))\n",
    "            \n",
    "\n",
    "except ValueError:\n",
    "    print(\"You need to enter an integer number of cents!\")\n",
    "    print(\"Quitting now ... bye.\")"
   ]
  },
  {
   "cell_type": "code",
   "execution_count": null,
   "metadata": {},
   "outputs": [],
   "source": []
  },
  {
   "cell_type": "markdown",
   "metadata": {},
   "source": []
  }
 ],
 "metadata": {
  "kernelspec": {
   "display_name": "Python 3",
   "language": "python",
   "name": "python3"
  },
  "language_info": {
   "codemirror_mode": {
    "name": "ipython",
    "version": 3
   },
   "file_extension": ".py",
   "mimetype": "text/x-python",
   "name": "python",
   "nbconvert_exporter": "python",
   "pygments_lexer": "ipython3",
   "version": "3.6.8"
  }
 },
 "nbformat": 4,
 "nbformat_minor": 2
}
