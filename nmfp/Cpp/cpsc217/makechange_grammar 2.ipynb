{
 "cells": [
  {
   "cell_type": "markdown",
   "metadata": {},
   "source": [
    "We begin by importing the math library, which we typically need in a lot of programs."
   ]
  },
  {
   "cell_type": "code",
   "execution_count": 7,
   "metadata": {},
   "outputs": [],
   "source": [
    "import math"
   ]
  },
  {
   "cell_type": "markdown",
   "metadata": {},
   "source": [
    "Next, we define two lists - coins, which will hold the value of each coin, and ncoins, which will hold the number of each coin type needed to make the correct change."
   ]
  },
  {
   "cell_type": "code",
   "execution_count": 8,
   "metadata": {},
   "outputs": [
    {
     "name": "stdout",
     "output_type": "stream",
     "text": [
      "Starting ...\n"
     ]
    }
   ],
   "source": [
    "coins = [200,100,25,10,5,1]\n",
    "ncoins = [0,0,0,0,0,0]\n",
    "\n",
    "coin_names_singular = ['toonie','loonie','quarter','dime','nickel','penny']\n",
    "coin_names_plural = ['toonies','loonies','quarters','dimes','nickels','pennies']\n",
    "coin_names = []\n",
    "\n",
    "ntype = 6\n",
    "\n",
    "print(\"Starting ...\")"
   ]
  },
  {
   "cell_type": "markdown",
   "metadata": {},
   "source": [
    "Get the number of cents to make change for, from the user."
   ]
  },
  {
   "cell_type": "code",
   "execution_count": 9,
   "metadata": {},
   "outputs": [
    {
     "name": "stdout",
     "output_type": "stream",
     "text": [
      "Enter the number of cents of change: 2356\n"
     ]
    }
   ],
   "source": [
    "money = input(\"Enter the number of cents of change: \")"
   ]
  },
  {
   "cell_type": "markdown",
   "metadata": {},
   "source": [
    "1.  We will use a try/except trap to make sure that the user enters an integer number of cents.\n",
    "\n",
    "2.  The algorithm is that we will start with the largest coin value (toonie), and subtract that from the total over and over until we get a negative number, incrementing the number of that type of coin each time.  At the point that we have gone too far, we will move on to the next lower value coin tyoe, and add back in the amount that we mistakenly subtracted. "
   ]
  },
  {
   "cell_type": "code",
   "execution_count": 10,
   "metadata": {},
   "outputs": [
    {
     "name": "stdout",
     "output_type": "stream",
     "text": [
      "For 2356 cents, the change should be 11 toonies, 1 loonie, 2 quarters, 0 dimes, 1 nickel, and 1 penny.\n",
      "Finished!\n"
     ]
    }
   ],
   "source": [
    "while True:\n",
    "    try:\n",
    "        value = int(money)\n",
    "        value_save = value\n",
    "        \n",
    "        index = 0\n",
    "        while value > 0:\n",
    "            value = value - coins[index]\n",
    "            if value >=0:\n",
    "                ncoins[index]=ncoins[index]+1\n",
    "            else:\n",
    "                value = value + coins[index]\n",
    "                index = index + 1\n",
    "                \n",
    "        for i in range(ntype):\n",
    "            if ncoins[i]==1:\n",
    "                coin_names.append(coin_names_singular[i])\n",
    "            else:\n",
    "                coin_names.append(coin_names_plural[i])\n",
    "        \n",
    "        print(\"For %d cents, the change should be %d %s, %d %s, %d %s, %d %s, %d %s, and %d %s.\" % (value_save,ncoins[0],coin_names[0],ncoins[1],coin_names[1],ncoins[2],coin_names[2],ncoins[3],coin_names[3],ncoins[4],coin_names[4],ncoins[5],coin_names[5]))\n",
    "        break\n",
    "        \n",
    "    except ValueError:\n",
    "        print (\"You nee to enter an integer number of cents!  Exiting ... bye!\")\n",
    "        break\n",
    "        \n",
    "print (\"Finished!\")"
   ]
  },
  {
   "cell_type": "code",
   "execution_count": null,
   "metadata": {},
   "outputs": [],
   "source": []
  },
  {
   "cell_type": "code",
   "execution_count": null,
   "metadata": {},
   "outputs": [],
   "source": []
  },
  {
   "cell_type": "code",
   "execution_count": null,
   "metadata": {},
   "outputs": [],
   "source": []
  },
  {
   "cell_type": "code",
   "execution_count": null,
   "metadata": {},
   "outputs": [],
   "source": []
  },
  {
   "cell_type": "code",
   "execution_count": null,
   "metadata": {},
   "outputs": [],
   "source": []
  },
  {
   "cell_type": "code",
   "execution_count": null,
   "metadata": {},
   "outputs": [],
   "source": []
  },
  {
   "cell_type": "code",
   "execution_count": null,
   "metadata": {},
   "outputs": [],
   "source": []
  }
 ],
 "metadata": {
  "kernelspec": {
   "display_name": "Python 3",
   "language": "python",
   "name": "python3"
  },
  "language_info": {
   "codemirror_mode": {
    "name": "ipython",
    "version": 3
   },
   "file_extension": ".py",
   "mimetype": "text/x-python",
   "name": "python",
   "nbconvert_exporter": "python",
   "pygments_lexer": "ipython3",
   "version": "3.7.3"
  }
 },
 "nbformat": 4,
 "nbformat_minor": 2
}
