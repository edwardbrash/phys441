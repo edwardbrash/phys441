{
 "cells": [
  {
   "cell_type": "code",
   "execution_count": 74,
   "metadata": {},
   "outputs": [
    {
     "name": "stdout",
     "output_type": "stream",
     "text": [
      "Enter the base of the triangle: 1.3\n",
      "Enter the height of the triangle: catdw\n",
      "The values must be real numbers!!\n",
      "Exiting ... bye!\n"
     ]
    }
   ],
   "source": [
    "import math\n",
    "\n",
    "n1 = input('Enter a positive integer: ')\n",
    "\n",
    "while True:\n",
    "    try:\n",
    "        n = int(n1)\n",
    "        if n<=0:\n",
    "            print (\"The integer must be positive!!!\")\n",
    "            break\n",
    "       \n",
    "        sum = n*(n+1)/2\n",
    "        print (\"The sum of integers from 1 to %d is %d.\" % (n,sum))\n",
    "        \n",
    "        break\n",
    "    except ValueError:\n",
    "        print(\"The values must be integer!!\")\n",
    "        break\n",
    "    \n",
    "print('Exiting ... bye!')"
   ]
  },
  {
   "cell_type": "code",
   "execution_count": null,
   "metadata": {},
   "outputs": [],
   "source": []
  },
  {
   "cell_type": "code",
   "execution_count": null,
   "metadata": {},
   "outputs": [],
   "source": []
  },
  {
   "cell_type": "code",
   "execution_count": null,
   "metadata": {},
   "outputs": [],
   "source": []
  },
  {
   "cell_type": "code",
   "execution_count": null,
   "metadata": {},
   "outputs": [],
   "source": []
  },
  {
   "cell_type": "code",
   "execution_count": null,
   "metadata": {},
   "outputs": [],
   "source": []
  },
  {
   "cell_type": "code",
   "execution_count": null,
   "metadata": {},
   "outputs": [],
   "source": []
  }
 ],
 "metadata": {
  "kernelspec": {
   "display_name": "Python 3",
   "language": "python",
   "name": "python3"
  },
  "language_info": {
   "codemirror_mode": {
    "name": "ipython",
    "version": 3
   },
   "file_extension": ".py",
   "mimetype": "text/x-python",
   "name": "python",
   "nbconvert_exporter": "python",
   "pygments_lexer": "ipython3",
   "version": "3.7.3"
  }
 },
 "nbformat": 4,
 "nbformat_minor": 2
}
