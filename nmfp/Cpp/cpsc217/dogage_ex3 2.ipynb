{
 "cells": [
  {
   "cell_type": "code",
   "execution_count": 3,
   "metadata": {},
   "outputs": [
    {
     "name": "stdout",
     "output_type": "stream",
     "text": [
      "Enter your name: Edward\n",
      "Enter your age: 53\n",
      "I can't believe that Edward is 53.0! That's 225.0 in dog years!\n",
      "Enter your name: Olivia\n",
      "Enter your age: 25\n",
      "I can't believe that Olivia is 25.0! That's 113.0 in dog years!\n",
      "Enter your name: Sarah\n",
      "Enter your age: 25.5\n",
      "I can't believe that Sarah is 25.5! That's 115.0 in dog years!\n",
      "Enter your name: Fred\n",
      "Enter your age: 1\n",
      "I can't believe that Fred is 1.0! That's 10.5 in dog years!\n",
      "Enter your name: Don\n",
      "Enter your age: 0.5\n",
      "I can't believe that Don is 0.5! That's 5.2 in dog years!\n",
      "Enter your name: Martha\n",
      "Enter your age: 1.999\n",
      "I can't believe that Martha is 2.0! That's 21.0 in dog years!\n",
      "Enter your name: Billy\n",
      "Enter your age: 1\n",
      "I can't believe that Billy is 1.0! That's 10.5 in dog years!\n",
      "Enter your name: John\n",
      "Enter your age: 2\n",
      "I can't believe that John is 2.0! That's 21.0 in dog years!\n",
      "Enter your name: Isabella\n",
      "Enter your age: 0\n",
      "All done!\n",
      "Exiting ... bye!\n"
     ]
    }
   ],
   "source": [
    "while True:\n",
    "    n1 = input('Enter your name: ')\n",
    "    a1 = input('Enter your age: ')\n",
    "        \n",
    "    try:\n",
    "\n",
    "        n = str(n1)\n",
    "        age = float(a1)\n",
    "        if age<0:\n",
    "            print (\"Your age must be greater than zero!!\")\n",
    "            break\n",
    "        elif age==0:\n",
    "            print (\"All done!\")\n",
    "            break\n",
    "        elif age<2:\n",
    "            dogage = age*10.5\n",
    "        else:\n",
    "            dogage = 21.0 + (age-2)*4.0\n",
    "        \n",
    "        print (\"I can't believe that %s is %.1f! That's %.1f in dog years!\" % (n,age,dogage))\n",
    "        \n",
    "    except ValueError:\n",
    "        print(\"Your age must be a number\")\n",
    "        break\n",
    "    \n",
    "print('Exiting ... bye!')"
   ]
  },
  {
   "cell_type": "code",
   "execution_count": null,
   "metadata": {},
   "outputs": [],
   "source": []
  }
 ],
 "metadata": {
  "kernelspec": {
   "display_name": "Python 3",
   "language": "python",
   "name": "python3"
  },
  "language_info": {
   "codemirror_mode": {
    "name": "ipython",
    "version": 3
   },
   "file_extension": ".py",
   "mimetype": "text/x-python",
   "name": "python",
   "nbconvert_exporter": "python",
   "pygments_lexer": "ipython3",
   "version": "3.7.3"
  }
 },
 "nbformat": 4,
 "nbformat_minor": 2
}
