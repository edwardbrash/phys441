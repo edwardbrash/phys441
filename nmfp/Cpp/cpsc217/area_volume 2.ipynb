{
 "cells": [
  {
   "cell_type": "code",
   "execution_count": 1,
   "metadata": {},
   "outputs": [],
   "source": [
    "import math"
   ]
  },
  {
   "cell_type": "code",
   "execution_count": 2,
   "metadata": {},
   "outputs": [
    {
     "name": "stdout",
     "output_type": "stream",
     "text": [
      "Enter the radius: 3.4\n"
     ]
    }
   ],
   "source": [
    "r1 = input('Enter the radius: ')"
   ]
  },
  {
   "cell_type": "code",
   "execution_count": 4,
   "metadata": {},
   "outputs": [
    {
     "name": "stdout",
     "output_type": "stream",
     "text": [
      "Area = 36.316811\n",
      "Volume = 164.636210\n",
      "Exiting ... bye!\n"
     ]
    }
   ],
   "source": [
    "while True:\n",
    "    try:\n",
    "        r = float(r1)\n",
    "        if r<0:\n",
    "            print ('The radius must be greater than or equal to zero!')\n",
    "            break\n",
    "        \n",
    "        area = math.pi*math.pow(r,2)\n",
    "        volume = 4.0/3.0*math.pi*math.pow(r,3)\n",
    "        \n",
    "        print(\"Area = %f\" % area)\n",
    "        print(\"Volume = %f\" % volume)\n",
    "        break\n",
    "    except ValueError:\n",
    "        print(\"The radius must be a real number!\")\n",
    "        break\n",
    "    \n",
    "print('Exiting ... bye!')\n"
   ]
  },
  {
   "cell_type": "code",
   "execution_count": null,
   "metadata": {},
   "outputs": [],
   "source": []
  },
  {
   "cell_type": "code",
   "execution_count": null,
   "metadata": {},
   "outputs": [],
   "source": []
  }
 ],
 "metadata": {
  "kernelspec": {
   "display_name": "Python 3",
   "language": "python",
   "name": "python3"
  },
  "language_info": {
   "codemirror_mode": {
    "name": "ipython",
    "version": 3
   },
   "file_extension": ".py",
   "mimetype": "text/x-python",
   "name": "python",
   "nbconvert_exporter": "python",
   "pygments_lexer": "ipython3",
   "version": "3.7.3"
  }
 },
 "nbformat": 4,
 "nbformat_minor": 2
}
