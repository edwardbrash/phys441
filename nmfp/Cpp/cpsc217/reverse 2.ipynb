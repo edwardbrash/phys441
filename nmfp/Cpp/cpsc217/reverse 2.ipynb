{
 "cells": [
  {
   "cell_type": "code",
   "execution_count": 1,
   "metadata": {},
   "outputs": [
    {
     "name": "stdout",
     "output_type": "stream",
     "text": [
      "Enter a value (blank line to quit): a\n",
      "Enter a value (blank line to quit): b\n",
      "Enter a value (blank line to quit): c\n",
      "Enter a value (blank line to quit): d\n",
      "Enter a value (blank line to quit): e\n",
      "Enter a value (blank line to quit): \n",
      "e\n",
      "d\n",
      "c\n",
      "b\n",
      "a\n"
     ]
    }
   ],
   "source": [
    "mylist = []\n",
    "\n",
    "while True:\n",
    "    response = input(\"Enter a value (blank line to quit): \")\n",
    "    if (response == \"\"):\n",
    "        break\n",
    "    mylist.insert(0,response)\n",
    "\n",
    "for element in mylist:\n",
    "    print(element)\n"
   ]
  },
  {
   "cell_type": "code",
   "execution_count": 2,
   "metadata": {
    "scrolled": true
   },
   "outputs": [
    {
     "name": "stdout",
     "output_type": "stream",
     "text": [
      "Exiting ... bye!\n"
     ]
    }
   ],
   "source": [
    "#length = len(mylist)\n",
    "#mylistreverse = [0 for i in range(length)]\n",
    "#for i in range(length):\n",
    "#    mylistreverse[length-i-1]=mylist[i]\n",
    "#\n",
    "#for i in range(length):\n",
    "#    print(mylistreverse[i])\n",
    "\n",
    "print('Exiting ... bye!')"
   ]
  },
  {
   "cell_type": "code",
   "execution_count": null,
   "metadata": {},
   "outputs": [],
   "source": []
  },
  {
   "cell_type": "code",
   "execution_count": null,
   "metadata": {},
   "outputs": [],
   "source": []
  },
  {
   "cell_type": "code",
   "execution_count": null,
   "metadata": {},
   "outputs": [],
   "source": []
  },
  {
   "cell_type": "code",
   "execution_count": null,
   "metadata": {},
   "outputs": [],
   "source": []
  },
  {
   "cell_type": "code",
   "execution_count": null,
   "metadata": {},
   "outputs": [],
   "source": []
  },
  {
   "cell_type": "code",
   "execution_count": null,
   "metadata": {},
   "outputs": [],
   "source": []
  },
  {
   "cell_type": "code",
   "execution_count": null,
   "metadata": {},
   "outputs": [],
   "source": []
  }
 ],
 "metadata": {
  "kernelspec": {
   "display_name": "Python 3",
   "language": "python",
   "name": "python3"
  },
  "language_info": {
   "codemirror_mode": {
    "name": "ipython",
    "version": 3
   },
   "file_extension": ".py",
   "mimetype": "text/x-python",
   "name": "python",
   "nbconvert_exporter": "python",
   "pygments_lexer": "ipython3",
   "version": "3.6.8"
  }
 },
 "nbformat": 4,
 "nbformat_minor": 2
}
