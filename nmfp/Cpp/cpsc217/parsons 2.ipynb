{
 "cells": [
  {
   "cell_type": "code",
   "execution_count": 3,
   "metadata": {},
   "outputs": [
    {
     "name": "stdout",
     "output_type": "stream",
     "text": [
      "Enter an integer: 0\n",
      "The entered number was zero.\n"
     ]
    }
   ],
   "source": [
    "# parsons problem\n",
    "\n",
    "n = int(input(\"Enter an integer: \")) #16\n",
    "if n < 0:                            #1\n",
    "    message = \"negative\"             #7\n",
    "if n == 0:                           #4\n",
    "    message = \"zero\"                 #9\n",
    "if n > 0:                            #5\n",
    "    message = \"positive\"             #8\n",
    "print(\"The entered number was %s.\" % message) #17"
   ]
  },
  {
   "cell_type": "code",
   "execution_count": null,
   "metadata": {},
   "outputs": [],
   "source": []
  },
  {
   "cell_type": "code",
   "execution_count": null,
   "metadata": {},
   "outputs": [],
   "source": []
  }
 ],
 "metadata": {
  "kernelspec": {
   "display_name": "Python 3",
   "language": "python",
   "name": "python3"
  },
  "language_info": {
   "codemirror_mode": {
    "name": "ipython",
    "version": 3
   },
   "file_extension": ".py",
   "mimetype": "text/x-python",
   "name": "python",
   "nbconvert_exporter": "python",
   "pygments_lexer": "ipython3",
   "version": "3.7.3"
  }
 },
 "nbformat": 4,
 "nbformat_minor": 2
}
