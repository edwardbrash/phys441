{
 "cells": [
  {
   "cell_type": "code",
   "execution_count": 8,
   "metadata": {},
   "outputs": [
    {
     "name": "stdout",
     "output_type": "stream",
     "text": [
      "Enter the first side of the triangle: 3\n",
      "Enter the second side of the triangle: 3\n",
      "Enter the third side of the triangle: 7\n",
      "The values must be real numbers!!\n",
      "Exiting ... bye!\n"
     ]
    }
   ],
   "source": [
    "import math\n",
    "\n",
    "s1 = input('Enter the first side of the triangle: ')\n",
    "s2 = input('Enter the second side of the triangle: ')\n",
    "s3 = input('Enter the third side of the triangle: ')\n",
    "\n",
    "while True:\n",
    "    try:\n",
    "        s1r = float(s1)\n",
    "        s2r = float(s2)\n",
    "        s3r = float(s3)\n",
    "        if s1r<=0 or s2r<=0 or s3r<=0:\n",
    "            print (\"The side lengths must be greater than zero!!\")\n",
    "            break\n",
    "        \n",
    "        s = (s1r+s2r+s3r)/2.0\n",
    "        term = \n",
    "        area = math.sqrt(s*(s-s1r)*(s-s2r)*(s-s3r))\n",
    "        print (\"The area of a triangle with side lengths, %.3f, %.3f, and %.3f is %.3f.\" % (s1r,s2r,s3r,area))\n",
    "        \n",
    "        break\n",
    "    except ValueError:\n",
    "        print(\"The values must be real numbers!!\")\n",
    "        break\n",
    "    \n",
    "print('Exiting ... bye!')"
   ]
  },
  {
   "cell_type": "code",
   "execution_count": null,
   "metadata": {},
   "outputs": [],
   "source": []
  },
  {
   "cell_type": "code",
   "execution_count": null,
   "metadata": {},
   "outputs": [],
   "source": []
  },
  {
   "cell_type": "code",
   "execution_count": null,
   "metadata": {},
   "outputs": [],
   "source": []
  },
  {
   "cell_type": "code",
   "execution_count": null,
   "metadata": {},
   "outputs": [],
   "source": []
  },
  {
   "cell_type": "code",
   "execution_count": null,
   "metadata": {},
   "outputs": [],
   "source": []
  },
  {
   "cell_type": "code",
   "execution_count": null,
   "metadata": {},
   "outputs": [],
   "source": []
  }
 ],
 "metadata": {
  "kernelspec": {
   "display_name": "Python 3",
   "language": "python",
   "name": "python3"
  },
  "language_info": {
   "codemirror_mode": {
    "name": "ipython",
    "version": 3
   },
   "file_extension": ".py",
   "mimetype": "text/x-python",
   "name": "python",
   "nbconvert_exporter": "python",
   "pygments_lexer": "ipython3",
   "version": "3.7.3"
  }
 },
 "nbformat": 4,
 "nbformat_minor": 2
}
