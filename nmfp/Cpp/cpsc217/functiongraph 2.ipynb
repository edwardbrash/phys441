{
 "cells": [
  {
   "cell_type": "code",
   "execution_count": 1,
   "metadata": {},
   "outputs": [],
   "source": [
    "from math import *\n",
    "from SimpleGraphics import *"
   ]
  },
  {
   "cell_type": "code",
   "execution_count": 2,
   "metadata": {},
   "outputs": [],
   "source": [
    "# Set constants\n",
    "xcs = 0\n",
    "ycs = 0\n",
    "xce = 800\n",
    "yce = 600\n",
    "dx = 30\n",
    "dy = 30\n",
    "ticksize = 4\n",
    "label_offset = 12\n",
    "step = 1\n",
    "\n",
    "# Determine origin position\n",
    "ox = (xce-xcs)/2\n",
    "oy = (yce-ycs)/2\n",
    "\n",
    "# Determine minimum and maximum x- and y-axis limits\n",
    "xmin = -int(ox/dx)\n",
    "xmax = -xmin+1\n",
    "ymin = -int(oy/dy)\n",
    "ymax = -ymin+1\n",
    "\n",
    "# Change the background white\n",
    "setOutline(\"white\")\n",
    "background(\"white\")\n"
   ]
  },
  {
   "cell_type": "code",
   "execution_count": 3,
   "metadata": {},
   "outputs": [],
   "source": [
    "# Draw the Axes\n",
    "\n",
    "# Draw lines for axes\n",
    "setOutline(\"black\")\n",
    "line(xcs,oy,xce,oy)\n",
    "line(ox,ycs,ox,yce)\n",
    "\n",
    "# Draw x-tick marks and x-labels\n",
    "for i in range(xmin,xmax):\n",
    "    xval = ox+i*dx\n",
    "    ystart = oy-ticksize\n",
    "    yend = oy+ticksize\n",
    "    line(xval,ystart,xval,yend)\n",
    "    xlabel = str(i)\n",
    "    ytxt = oy+label_offset\n",
    "    if i!=0:\n",
    "        text(xval,ytxt,xlabel)\n",
    "        \n",
    "# Draw y-tick marks and y-labels\n",
    "for i in range(ymin,ymax):\n",
    "    xstart = ox-ticksize\n",
    "    xend = ox+ticksize\n",
    "    yval = oy+i*dy\n",
    "    line(xstart,yval,xend,yval)\n",
    "    ylabel = str(i)\n",
    "    xtxt = ox+label_offset\n",
    "    if i!=0:\n",
    "        text(xtxt,yval,ylabel)"
   ]
  },
  {
   "cell_type": "code",
   "execution_count": 4,
   "metadata": {},
   "outputs": [
    {
     "name": "stdout",
     "output_type": "stream",
     "text": [
      "Enter an arithmetic expression (blank line to quit): \n"
     ]
    }
   ],
   "source": [
    "# Create variables to monitor whether blank line has been entered, and the number of curves plotted\n",
    "looping = True\n",
    "count = 0\n",
    "\n",
    "# Loop until a blank line is entered\n",
    "while (looping):\n",
    "    expression = input(\"Enter an arithmetic expression (blank line to quit): \")\n",
    "    if (expression == \"\"):\n",
    "        looping = False\n",
    "\n",
    "    # Calculate and set the color to use for the curve\n",
    "    color = count % 3\n",
    "    if (color == 0):\n",
    "        col = \"red\"\n",
    "    elif (color == 1):\n",
    "        col = \"green\"\n",
    "    elif (color == 2):\n",
    "        col = \"blue\"\n",
    "    setFill(col)\n",
    "    setOutline(col)\n",
    "    \n",
    "    # If a blank line was NOT entered, plot the curve, as well as local maximum and minimum points\n",
    "    if (looping):\n",
    "        compare = -10000\n",
    "        psi = -10000\n",
    "        psi2 = -10000\n",
    "        for xpixel in range(xcs,xce,step):\n",
    "            x = (xpixel-ox)/dx\n",
    "            xstart = x*dx+ox\n",
    "            y = eval(expression)\n",
    "            ystart = -y*dy+oy\n",
    "            x = (xpixel+step-ox)/dx\n",
    "            xend = x*dx+ox\n",
    "            y = eval(expression)\n",
    "            yend = -y*dy+oy\n",
    "            line(xstart,ystart,xend,yend)\n",
    "            \n",
    "            if (xpixel > xcs+1):\n",
    "                if (yend>ystart):\n",
    "                    compare = 1\n",
    "                elif (yend==ystart):\n",
    "                    compare = 0\n",
    "                else:\n",
    "                    compare = -1\n",
    "                if (compare != psi):\n",
    "                    if (compare == 1):\n",
    "                        if (psi == -1 or (psi == 0 and psi2 == -1)):\n",
    "                            setFill(\"purple\")\n",
    "                            setOutline(\"purple\")\n",
    "                    if (compare == -1):\n",
    "                        if (psi == 1 or (psi == 0 and psi2 == 1)):\n",
    "                            setFill(\"orange\")\n",
    "                            setOutline(\"orange\")\n",
    "                    ellipse(xstart-ticksize,ystart-ticksize,2*ticksize,2*ticksize)\n",
    "                    setFill(col)\n",
    "                    setOutline(col)\n",
    "\n",
    "            psi2 = psi\n",
    "            if (yend>ystart):\n",
    "                psi = 1\n",
    "            elif (yend == ystart):\n",
    "                psi = 0\n",
    "            else:\n",
    "                psi = -1\n",
    "    \n",
    "    # Increment the number of plotted curves\n",
    "    count = count + 1\n",
    "\n",
    "# Close the graphics window\n",
    "close()\n",
    "    "
   ]
  },
  {
   "cell_type": "code",
   "execution_count": null,
   "metadata": {},
   "outputs": [],
   "source": []
  },
  {
   "cell_type": "code",
   "execution_count": null,
   "metadata": {},
   "outputs": [],
   "source": []
  },
  {
   "cell_type": "code",
   "execution_count": null,
   "metadata": {},
   "outputs": [],
   "source": []
  },
  {
   "cell_type": "code",
   "execution_count": null,
   "metadata": {},
   "outputs": [],
   "source": []
  },
  {
   "cell_type": "code",
   "execution_count": null,
   "metadata": {},
   "outputs": [],
   "source": []
  },
  {
   "cell_type": "code",
   "execution_count": null,
   "metadata": {},
   "outputs": [],
   "source": []
  }
 ],
 "metadata": {
  "kernelspec": {
   "display_name": "Python 3",
   "language": "python",
   "name": "python3"
  },
  "language_info": {
   "codemirror_mode": {
    "name": "ipython",
    "version": 3
   },
   "file_extension": ".py",
   "mimetype": "text/x-python",
   "name": "python",
   "nbconvert_exporter": "python",
   "pygments_lexer": "ipython3",
   "version": "3.7.3"
  }
 },
 "nbformat": 4,
 "nbformat_minor": 2
}
