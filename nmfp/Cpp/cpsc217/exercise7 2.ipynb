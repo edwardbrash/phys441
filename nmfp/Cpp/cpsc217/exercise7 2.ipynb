{
 "cells": [
  {
   "cell_type": "code",
   "execution_count": 1,
   "metadata": {},
   "outputs": [],
   "source": [
    "# Python file i/o - Exercise 7"
   ]
  },
  {
   "cell_type": "code",
   "execution_count": 2,
   "metadata": {},
   "outputs": [
    {
     "name": "stdout",
     "output_type": "stream",
     "text": [
      "Enter the name of a file: test2.txt\n",
      "1,2,3,4.5,99.0012\n",
      "['1', '2', '3', '4.5', '99.0012']\n",
      "cat,dog,True,your mother,4.98\n",
      "['cat', 'dog', 'True', 'your mother', '4.98']\n",
      "That file contains  10  values.\n"
     ]
    }
   ],
   "source": [
    "filename = input('Enter the name of a file: ')\n",
    "\n",
    "try:\n",
    "    f = open(filename)\n",
    "    #print (\"File \",filename,\" opened successfully!\")\n",
    "    \n",
    "    totalvalues = 0\n",
    "    for line in f:\n",
    "        #print (line)\n",
    "        #badvalues = line.split(',')\n",
    "        #print (badvalues)\n",
    "        \n",
    "        temp = line.rstrip('\\n')\n",
    "        print (temp)\n",
    "        values = temp.split(',')\n",
    "        print (values)\n",
    "        \n",
    "        totalvalues = totalvalues + len(values)\n",
    "        \n",
    "    print ('That file contains ',totalvalues,' values.')\n",
    "        \n",
    "    #print('Finished reading ...')\n",
    "except:\n",
    "    print (\"File could not be opened!\")\n",
    "finally:\n",
    "    #print ('Closing file ... ')\n",
    "    f.close()\n",
    "    \n",
    "#print(\"Exiting ... bye!\")\n",
    "\n"
   ]
  },
  {
   "cell_type": "code",
   "execution_count": null,
   "metadata": {},
   "outputs": [],
   "source": []
  }
 ],
 "metadata": {
  "kernelspec": {
   "display_name": "Python 3",
   "language": "python",
   "name": "python3"
  },
  "language_info": {
   "codemirror_mode": {
    "name": "ipython",
    "version": 3
   },
   "file_extension": ".py",
   "mimetype": "text/x-python",
   "name": "python",
   "nbconvert_exporter": "python",
   "pygments_lexer": "ipython3",
   "version": "3.7.3"
  }
 },
 "nbformat": 4,
 "nbformat_minor": 2
}
