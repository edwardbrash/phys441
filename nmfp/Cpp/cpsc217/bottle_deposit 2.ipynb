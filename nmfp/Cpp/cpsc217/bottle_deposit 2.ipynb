{
 "cells": [
  {
   "cell_type": "markdown",
   "metadata": {},
   "source": [
    "Data Types in Python\n",
    "\n",
    "        integer\n",
    "        single precision floating point (7 decimal places - 32 bit)\n",
    "        double precision floating point (15 decimal places - 64 bit)\n",
    "        string\n",
    "        boolean\n",
    "        \n",
    "        int\n",
    "        float\n",
    "        double\n",
    "        str\n",
    "        bool\n",
    "        \n",
    "Python is NOT strongly typed!!!!\n",
    "\n",
    "Whenever we get input from the user, we have to check all possibilities!!!!!!"
   ]
  },
  {
   "cell_type": "code",
   "execution_count": null,
   "metadata": {},
   "outputs": [
    {
     "name": "stdout",
     "output_type": "stream",
     "text": [
      "Enter less than 1 liter bottle number: 4\n",
      "Enter larger than 1 liter bottle number: 3.8\n",
      "hey stupid, you need to enter an integer!!!\n"
     ]
    }
   ],
   "source": [
    "bad_entry = True\n",
    "debug = False\n",
    "\n",
    "while bad_entry:\n",
    "\n",
    "    small = input('Enter less than 1 liter bottle number: ')\n",
    "    big = input('Enter larger than 1 liter bottle number: ')\n",
    "\n",
    "    try:\n",
    "        ismall = int(small)\n",
    "        ibig = int(big)\n",
    "        \n",
    "        if ismall>=0 and ibig>=0:\n",
    "            if debug:\n",
    "                print(ismall,ibig)    \n",
    "            bad_entry = False\n",
    "        else:\n",
    "            print (\"hey dummy, you can't have negative bottle numbers!!\")\n",
    "        \n",
    "    except ValueError:\n",
    "        print ('hey stupid, you need to enter an integer!!!')\n",
    "        \n",
    "refund = 0.10*ismall + 0.20*ibig\n",
    "print (\"Refund is $%.2f\" % refund)"
   ]
  },
  {
   "cell_type": "code",
   "execution_count": null,
   "metadata": {},
   "outputs": [],
   "source": []
  },
  {
   "cell_type": "code",
   "execution_count": null,
   "metadata": {},
   "outputs": [],
   "source": []
  },
  {
   "cell_type": "code",
   "execution_count": null,
   "metadata": {},
   "outputs": [],
   "source": []
  },
  {
   "cell_type": "code",
   "execution_count": null,
   "metadata": {},
   "outputs": [],
   "source": []
  },
  {
   "cell_type": "code",
   "execution_count": null,
   "metadata": {},
   "outputs": [],
   "source": [
    "\n"
   ]
  },
  {
   "cell_type": "code",
   "execution_count": null,
   "metadata": {},
   "outputs": [],
   "source": []
  },
  {
   "cell_type": "code",
   "execution_count": null,
   "metadata": {},
   "outputs": [],
   "source": []
  }
 ],
 "metadata": {
  "kernelspec": {
   "display_name": "Python 3",
   "language": "python",
   "name": "python3"
  },
  "language_info": {
   "codemirror_mode": {
    "name": "ipython",
    "version": 3
   },
   "file_extension": ".py",
   "mimetype": "text/x-python",
   "name": "python",
   "nbconvert_exporter": "python",
   "pygments_lexer": "ipython3",
   "version": "3.7.3"
  }
 },
 "nbformat": 4,
 "nbformat_minor": 2
}
