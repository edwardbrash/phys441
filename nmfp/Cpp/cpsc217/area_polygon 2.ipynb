{
 "cells": [
  {
   "cell_type": "code",
   "execution_count": 6,
   "metadata": {},
   "outputs": [
    {
     "name": "stdout",
     "output_type": "stream",
     "text": [
      "Enter the number of sides of the polygon: 5\n",
      "Enter the side length: 1\n",
      "The area of a 5-sided regular polygon with side length, 1.000000, is 1.720477.\n",
      "Exiting ... bye!\n"
     ]
    }
   ],
   "source": [
    "import math\n",
    "\n",
    "n1 = input('Enter the number of sides of the polygon: ')\n",
    "s1 = input('Enter the side length: ')\n",
    "\n",
    "while True:\n",
    "    try:\n",
    "        n = int(n1)\n",
    "        if n<3:\n",
    "            print (\"The number of sides must be greater than two!!\")\n",
    "            break\n",
    "        s = float(s1)\n",
    "        if s<0:\n",
    "            print (\"The side length must be greater than zero!!\")\n",
    "            break\n",
    "       \n",
    "        area = n*s*s/(4.0*math.tan(math.pi/n))\n",
    "        print (\"The area of a %d-sided regular polygon with side length, %f, is %f.\" % (n,s,area))\n",
    "        \n",
    "        break\n",
    "    except ValueError:\n",
    "        print(\"The values must be numbers!!\")\n",
    "        break\n",
    "    \n",
    "print('Exiting ... bye!')"
   ]
  },
  {
   "cell_type": "code",
   "execution_count": null,
   "metadata": {},
   "outputs": [],
   "source": []
  },
  {
   "cell_type": "code",
   "execution_count": null,
   "metadata": {},
   "outputs": [],
   "source": []
  },
  {
   "cell_type": "code",
   "execution_count": null,
   "metadata": {},
   "outputs": [],
   "source": []
  },
  {
   "cell_type": "code",
   "execution_count": null,
   "metadata": {},
   "outputs": [],
   "source": []
  },
  {
   "cell_type": "code",
   "execution_count": null,
   "metadata": {},
   "outputs": [],
   "source": []
  },
  {
   "cell_type": "code",
   "execution_count": null,
   "metadata": {},
   "outputs": [],
   "source": []
  }
 ],
 "metadata": {
  "kernelspec": {
   "display_name": "Python 3",
   "language": "python",
   "name": "python3"
  },
  "language_info": {
   "codemirror_mode": {
    "name": "ipython",
    "version": 3
   },
   "file_extension": ".py",
   "mimetype": "text/x-python",
   "name": "python",
   "nbconvert_exporter": "python",
   "pygments_lexer": "ipython3",
   "version": "3.7.3"
  }
 },
 "nbformat": 4,
 "nbformat_minor": 2
}
