{
 "cells": [
  {
   "cell_type": "code",
   "execution_count": 1,
   "metadata": {},
   "outputs": [
    {
     "name": "stdout",
     "output_type": "stream",
     "text": [
      "Enter a length in feet (greater than zero): 100\n",
      "A lenght of 100.000 is equivalent to 1200.000 inches, 33.333 yards, and 0.019 miles.\n",
      "Exiting ... bye!\n"
     ]
    }
   ],
   "source": [
    "import math\n",
    "\n",
    "l1 = input('Enter a length in feet (greater than zero): ')\n",
    "\n",
    "while True:\n",
    "    try:\n",
    "        l = float(l1)\n",
    "        if l<0:\n",
    "            print (\"The length must be greater than zero!!\")\n",
    "            break\n",
    "    \n",
    "        inches = l*12.0\n",
    "        yards = l/3.0\n",
    "        miles = l/5280.0\n",
    "\n",
    "        print (\"A length of %.3f feet is equivalent to %.3f inches, %.3f yards, and %.3f miles.\" % (l,inches,yards,miles))\n",
    "        \n",
    "        break\n",
    "    except ValueError:\n",
    "        print(\"The values must be real numbers!!\")\n",
    "        break\n",
    "    \n",
    "print('Exiting ... bye!')"
   ]
  },
  {
   "cell_type": "code",
   "execution_count": null,
   "metadata": {},
   "outputs": [],
   "source": []
  },
  {
   "cell_type": "code",
   "execution_count": null,
   "metadata": {},
   "outputs": [],
   "source": []
  },
  {
   "cell_type": "code",
   "execution_count": null,
   "metadata": {},
   "outputs": [],
   "source": []
  },
  {
   "cell_type": "code",
   "execution_count": null,
   "metadata": {},
   "outputs": [],
   "source": []
  },
  {
   "cell_type": "code",
   "execution_count": null,
   "metadata": {},
   "outputs": [],
   "source": []
  },
  {
   "cell_type": "code",
   "execution_count": null,
   "metadata": {},
   "outputs": [],
   "source": []
  }
 ],
 "metadata": {
  "kernelspec": {
   "display_name": "Python 3",
   "language": "python",
   "name": "python3"
  },
  "language_info": {
   "codemirror_mode": {
    "name": "ipython",
    "version": 3
   },
   "file_extension": ".py",
   "mimetype": "text/x-python",
   "name": "python",
   "nbconvert_exporter": "python",
   "pygments_lexer": "ipython3",
   "version": "3.7.3"
  }
 },
 "nbformat": 4,
 "nbformat_minor": 2
}
