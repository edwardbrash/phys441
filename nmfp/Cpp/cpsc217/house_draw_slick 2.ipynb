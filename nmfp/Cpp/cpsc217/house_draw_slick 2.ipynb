{
 "cells": [
  {
   "cell_type": "code",
   "execution_count": 1,
   "metadata": {},
   "outputs": [],
   "source": [
    "from SimpleGraphics import *"
   ]
  },
  {
   "cell_type": "code",
   "execution_count": 2,
   "metadata": {},
   "outputs": [],
   "source": [
    "width = 800\n",
    "height = 600\n",
    "house_center_x = width/2.0\n",
    "house_top_y = height/3.0\n",
    "\n",
    "# Do not edit below this line!\n",
    "house_width = width/2.0\n",
    "house_height = height*5.0/12.0\n",
    "grass_height = height*5.0/12.0\n",
    "window_width = house_width/2.0*0.75\n",
    "window_height = window_width*0.60\n",
    "door_height = house_height*3.0/4.0\n",
    "door_width = house_width/4.0\n",
    "roof_lip = 20.0*width/800.0\n",
    "roof_height = house_height/3.0\n",
    "cc_radius = 70*width/800.0\n",
    "cloud_x = 70*width/800.0\n",
    "cloud_y = 70*width/800.0\n",
    "sun_radius = 300*width/800.0\n",
    "\n",
    "# Change the background to sky blue\n",
    "setOutline(\"deep sky blue\")\n",
    "background(\"deep sky blue\")\n",
    "\n",
    "# Draw the grass rectangle\n",
    "setOutline(\"olive drab\")\n",
    "setFill(\"olive drab\")\n",
    "rect(0, height-grass_height, width, grass_height)\n",
    "setOutline(\"black\")\n",
    "\n",
    "# Draw the clouds\n",
    "setFill(\"white\")\n",
    "setOutline(\"white\")\n",
    "ellipse(cloud_x,cloud_y,cc_radius,cc_radius)\n",
    "ellipse(cloud_x+cc_radius*25./70.,cloud_y+cc_radius*25./70.,cc_radius,cc_radius)\n",
    "ellipse(cloud_x-cc_radius*25./70.,cloud_y-cc_radius*25./70.,cc_radius,cc_radius)\n",
    "ellipse(cloud_x+cc_radius*45./70.,cloud_y-cc_radius*25./70.,cc_radius,cc_radius)\n",
    "ellipse(cloud_x+cc_radius,cloud_y,cc_radius,cc_radius)\n",
    "ellipse(cloud_x+cc_radius*115.0/70.,cloud_y+cc_radius*25./70.,cc_radius,cc_radius)\n",
    "ellipse(cloud_x+cc_radius*95.0/70.,cloud_y-cc_radius*5./70.,cc_radius,cc_radius)\n",
    "setOutline(\"black\")\n",
    "\n",
    "# Draw the Sun\n",
    "setFill(\"yellow\")\n",
    "setOutline(\"yellow\")\n",
    "pieSlice(width-sun_radius/2.0, -sun_radius/2.0, sun_radius, sun_radius,180,90)\n",
    "setOutline(\"black\")\n",
    "\n",
    "# Draw the main house outline\n",
    "setFill(\"wheat4\")\n",
    "rect(house_center_x-house_width/2.0, house_top_y, house_width, house_height)\n",
    "\n",
    "# Draw the house window and crossed lines\n",
    "setFill(\"gold\")\n",
    "rect(house_center_x, house_top_y+house_height/2.0-window_height/2.0, window_width, window_height)\n",
    "line(house_center_x, house_top_y+house_height/2.0, house_center_x+window_width, house_top_y+house_height/2.0)\n",
    "line(house_center_x+window_width/2.0,house_top_y+house_height/2.0-window_height/2.0 , house_center_x+window_width/2.0, house_top_y+house_height/2.0+window_height/2.0)\n",
    "\n",
    "# Draw the door\n",
    "setFill(\"midnight blue\")\n",
    "rect(house_center_x-house_width/4.0-door_width/2.0, house_top_y+house_height-door_height, door_width, door_height)\n",
    "\n",
    "# Draw the roof\n",
    "setFill(\"brown4\")\n",
    "polygon(house_center_x-house_width/2.0-roof_lip,house_top_y,house_center_x+house_width/2.0+roof_lip,house_top_y,house_center_x,house_top_y-roof_height)\n",
    "\n",
    "# Sign the picture\n",
    "name = \"Edward Brash\"\n",
    "nchar = len(name)\n",
    "fsi = int(16)\n",
    "fsi_fac = int(1.25*fsi)\n",
    "fs = str(fsi)\n",
    "setFont(\"Comic Sans\", fs)\n",
    "text(width-5*nchar, height-fsi_fac, name)"
   ]
  },
  {
   "cell_type": "code",
   "execution_count": null,
   "metadata": {},
   "outputs": [],
   "source": []
  },
  {
   "cell_type": "markdown",
   "metadata": {},
   "source": [
    " "
   ]
  }
 ],
 "metadata": {
  "kernelspec": {
   "display_name": "Python 3",
   "language": "python",
   "name": "python3"
  },
  "language_info": {
   "codemirror_mode": {
    "name": "ipython",
    "version": 3
   },
   "file_extension": ".py",
   "mimetype": "text/x-python",
   "name": "python",
   "nbconvert_exporter": "python",
   "pygments_lexer": "ipython3",
   "version": "3.6.8"
  }
 },
 "nbformat": 4,
 "nbformat_minor": 2
}
