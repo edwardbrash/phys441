{
 "cells": [
  {
   "cell_type": "code",
   "execution_count": 10,
   "metadata": {},
   "outputs": [
    {
     "name": "stdout",
     "output_type": "stream",
     "text": [
      "Enter your name: Edward\n",
      "Enter your age: 53\n",
      "I can't believe that Edward is 53.0! That's 371.0 in dog years!\n",
      "Exiting ... bye!\n"
     ]
    }
   ],
   "source": [
    "n1 = input('Enter your name: ')\n",
    "a1 = input('Enter your age: ')\n",
    "\n",
    "while True:\n",
    "    try:\n",
    "        n = str(n1)\n",
    "        age = float(a1)\n",
    "        if age<=0:\n",
    "            print (\"Your age must be greater than zero!!\")\n",
    "            break\n",
    "       \n",
    "        dogage = age*7.0\n",
    "        print (\"I can't believe that %s is %.1f! That's %.1f in dog years!\" % (n,age,dogage))\n",
    "        \n",
    "        break\n",
    "    except ValueError:\n",
    "        print(\"Your age must be a number\")\n",
    "        break\n",
    "    \n",
    "print('Exiting ... bye!')"
   ]
  },
  {
   "cell_type": "code",
   "execution_count": null,
   "metadata": {},
   "outputs": [],
   "source": []
  },
  {
   "cell_type": "code",
   "execution_count": null,
   "metadata": {},
   "outputs": [],
   "source": []
  },
  {
   "cell_type": "code",
   "execution_count": null,
   "metadata": {},
   "outputs": [],
   "source": []
  },
  {
   "cell_type": "code",
   "execution_count": null,
   "metadata": {},
   "outputs": [],
   "source": []
  },
  {
   "cell_type": "code",
   "execution_count": null,
   "metadata": {},
   "outputs": [],
   "source": []
  },
  {
   "cell_type": "code",
   "execution_count": null,
   "metadata": {},
   "outputs": [],
   "source": []
  }
 ],
 "metadata": {
  "kernelspec": {
   "display_name": "Python 3",
   "language": "python",
   "name": "python3"
  },
  "language_info": {
   "codemirror_mode": {
    "name": "ipython",
    "version": 3
   },
   "file_extension": ".py",
   "mimetype": "text/x-python",
   "name": "python",
   "nbconvert_exporter": "python",
   "pygments_lexer": "ipython3",
   "version": "3.7.3"
  }
 },
 "nbformat": 4,
 "nbformat_minor": 2
}
