{
 "cells": [
  {
   "cell_type": "code",
   "execution_count": 7,
   "metadata": {},
   "outputs": [
    {
     "name": "stdout",
     "output_type": "stream",
     "text": [
      "Enter the latitude of the first point in degrees: -95\n",
      "Enter the longitude of the first point in degrees: 0\n",
      "Enter the latitude of the second point in degrees: 0\n",
      "Enter the longitude of the second point degrees: 0\n",
      "Latitude of first point outside of allowed range!!\n",
      "Exiting ... bye!\n"
     ]
    }
   ],
   "source": [
    "import math\n",
    "\n",
    "st1 = input('Enter the latitude of the first point in degrees: ')\n",
    "sg1 = input('Enter the longitude of the first point in degrees: ')\n",
    "st2 = input('Enter the latitude of the second point in degrees: ')\n",
    "sg2 = input('Enter the longitude of the second point degrees: ')\n",
    "\n",
    "while True:\n",
    "    try:\n",
    "        t1 = float(st1)*math.pi/180.0\n",
    "        g1 = float(sg1)*math.pi/180.0\n",
    "        t2 = float(st2)*math.pi/180.0\n",
    "        g2 = float(sg2)*math.pi/180.0\n",
    "\n",
    "        if t1<-math.pi/2.0 or t1>math.pi/2.0:\n",
    "            print (\"Latitude of first point outside of allowed range!!\")\n",
    "            break\n",
    "        if t2<-math.pi/2.0 or t2>math.pi/2.0:\n",
    "            print (\"Latitude of second point outside of allowed range!!\")\n",
    "            break   \n",
    "        if g1<-math.pi or g1>math.pi:\n",
    "            print (\"Longitude of first point outside of allowed range!!\")\n",
    "            break\n",
    "        if g2<-math.pi or g2>math.pi:\n",
    "            print (\"Longitude of second point outside of allowed range!!\")\n",
    "            break\n",
    "            \n",
    "        term = math.sin(t1)*math.sin(t2)+math.cos(t1)*math.cos(t2)*math.cos(g1-g2)\n",
    "        distance = 6371.01*math.acos(term)\n",
    "\n",
    "        print (\"The distance between the points (%.1f,%.1f) and (%.1f,%.1f) is %.1f km.\" % (float(st1),float(sg1),float(st2),float(sg2),distance))\n",
    "        \n",
    "        break\n",
    "    except ValueError:\n",
    "        print(\"The values must be real numbers!!\")\n",
    "        break\n",
    "    \n",
    "print('Exiting ... bye!')"
   ]
  },
  {
   "cell_type": "code",
   "execution_count": null,
   "metadata": {},
   "outputs": [],
   "source": []
  },
  {
   "cell_type": "code",
   "execution_count": null,
   "metadata": {},
   "outputs": [],
   "source": []
  },
  {
   "cell_type": "code",
   "execution_count": null,
   "metadata": {},
   "outputs": [],
   "source": []
  },
  {
   "cell_type": "code",
   "execution_count": null,
   "metadata": {},
   "outputs": [],
   "source": []
  },
  {
   "cell_type": "code",
   "execution_count": null,
   "metadata": {},
   "outputs": [],
   "source": []
  },
  {
   "cell_type": "code",
   "execution_count": null,
   "metadata": {},
   "outputs": [],
   "source": []
  }
 ],
 "metadata": {
  "kernelspec": {
   "display_name": "Python 3",
   "language": "python",
   "name": "python3"
  },
  "language_info": {
   "codemirror_mode": {
    "name": "ipython",
    "version": 3
   },
   "file_extension": ".py",
   "mimetype": "text/x-python",
   "name": "python",
   "nbconvert_exporter": "python",
   "pygments_lexer": "ipython3",
   "version": "3.7.3"
  }
 },
 "nbformat": 4,
 "nbformat_minor": 2
}
