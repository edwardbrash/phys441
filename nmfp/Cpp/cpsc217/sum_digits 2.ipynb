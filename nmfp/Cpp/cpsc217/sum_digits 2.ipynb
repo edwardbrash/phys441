{
 "cells": [
  {
   "cell_type": "code",
   "execution_count": 68,
   "metadata": {},
   "outputs": [
    {
     "name": "stdout",
     "output_type": "stream",
     "text": [
      "Enter the number whose digits you wish to sum: 1727804848\n",
      "1 + 7 + 2 + 7 + 8 + 0 + 4 + 8 + 4 + 8 = 49\n",
      "Exiting ... bye!\n"
     ]
    }
   ],
   "source": [
    "import math\n",
    "\n",
    "n1 = input('Enter the number whose digits you wish to sum: ')\n",
    "\n",
    "while True:\n",
    "    try:\n",
    "        n = int(n1)\n",
    "        if n<0:\n",
    "            print (\"The number must be greater than or equal to zero!!\")\n",
    "            break\n",
    "            \n",
    "        digits = []\n",
    "        \n",
    "        sum = 0\n",
    "        ndigits = 0\n",
    "        while n>0:\n",
    "            digits.append(int(n%10))\n",
    "            ndigits = ndigits + 1\n",
    "            sum = sum + n%10\n",
    "            n = (n - n%10)/10\n",
    "            #print (n,sum)\n",
    "            \n",
    "        #print (ndigits,digits)\n",
    "        \n",
    "        output = \"\"\n",
    "        for i in range(ndigits):\n",
    "            index = ndigits-i-1\n",
    "            if i<ndigits-1:\n",
    "                output = output + (\"%d + \" % digits[index])\n",
    "            else:\n",
    "                output = output + (\"%d = \" % digits[index])\n",
    "        \n",
    "        output = output + str(int(sum))\n",
    "        print (output)\n",
    "        \n",
    "        break\n",
    "    except ValueError:\n",
    "        print(\"The number must be an integer!!\")\n",
    "        break\n",
    "    \n",
    "print('Exiting ... bye!')"
   ]
  },
  {
   "cell_type": "code",
   "execution_count": null,
   "metadata": {},
   "outputs": [],
   "source": []
  },
  {
   "cell_type": "code",
   "execution_count": null,
   "metadata": {},
   "outputs": [],
   "source": []
  },
  {
   "cell_type": "code",
   "execution_count": null,
   "metadata": {},
   "outputs": [],
   "source": []
  },
  {
   "cell_type": "code",
   "execution_count": null,
   "metadata": {},
   "outputs": [],
   "source": []
  },
  {
   "cell_type": "code",
   "execution_count": null,
   "metadata": {},
   "outputs": [],
   "source": []
  },
  {
   "cell_type": "code",
   "execution_count": null,
   "metadata": {},
   "outputs": [],
   "source": []
  }
 ],
 "metadata": {
  "kernelspec": {
   "display_name": "Python 3",
   "language": "python",
   "name": "python3"
  },
  "language_info": {
   "codemirror_mode": {
    "name": "ipython",
    "version": 3
   },
   "file_extension": ".py",
   "mimetype": "text/x-python",
   "name": "python",
   "nbconvert_exporter": "python",
   "pygments_lexer": "ipython3",
   "version": "3.7.3"
  }
 },
 "nbformat": 4,
 "nbformat_minor": 2
}
