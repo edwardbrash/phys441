{
 "cells": [
  {
   "cell_type": "code",
   "execution_count": 1,
   "metadata": {},
   "outputs": [],
   "source": [
    "from array import array\n",
    "import numpy as np\n",
    "import math"
   ]
  },
  {
   "cell_type": "code",
   "execution_count": 2,
   "metadata": {},
   "outputs": [],
   "source": [
    "# Initial Conditions\n",
    "speed = 55.8\n",
    "theta = 35.0\n",
    "y1 = 0.0\n",
    "\n",
    "\n",
    "# Other constants - golf ball - D = 0.0427m, m = 0.04593kg\n",
    "Cd = 0.20 # drag coefficient\n",
    "area = 0.001432 # cross sectional area of projectile\n",
    "grav = 9.81 # gravitional acceleration\n",
    "mass = 0.04593 # mass in kg\n",
    "rho = 1.225 # density of air (kg/m^3)\n",
    "air_const = -0.5*Cd*rho*area/mass\n",
    "Pi = math.pi"
   ]
  },
  {
   "cell_type": "code",
   "execution_count": 3,
   "metadata": {},
   "outputs": [],
   "source": [
    "r1 = array('d')\n",
    "v1 = array('d')\n",
    "r = array('d')\n",
    "v = array('d')\n",
    "accel = array('d')\n",
    "\n",
    "r1.append(0)\n",
    "r1.append(y1)\n",
    "v1.append(speed*math.cos(theta*Pi/180.0))\n",
    "v1.append(speed*math.sin(theta*Pi/180.0))\n",
    "\n",
    "r.append(r1[0])\n",
    "r.append(r1[1])\n",
    "v.append(v1[0])\n",
    "v.append(v1[1])\n",
    "accel.append(0)\n",
    "accel.append(0)"
   ]
  },
  {
   "cell_type": "code",
   "execution_count": 4,
   "metadata": {},
   "outputs": [],
   "source": [
    "tau = 0.0005 # timestep in seconds\n",
    "maxStep = 1000000 # maximum number of steps\n",
    "\n",
    "xplot = array('d')\n",
    "yplot = array('d')\n",
    "xNoAir = array('d')\n",
    "yNoAir = array('d')\n",
    "time = array('d')"
   ]
  },
  {
   "cell_type": "code",
   "execution_count": 5,
   "metadata": {},
   "outputs": [
    {
     "name": "stdout",
     "output_type": "stream",
     "text": [
      "Maximum range is 150.451169 meters.\n",
      "Theory maximum range is 298.253265 meters.\n",
      " \n",
      "Time of flight is 4.585500 seconds.\n",
      "Theory time of flight is 6.525090 seconds.\n",
      " \n",
      "Max y = 53.209796\n",
      "Theory Max y = 52.209796\n",
      " \n",
      "Number of elements = 9171\n"
     ]
    }
   ],
   "source": [
    "endtime = 0\n",
    "nelements = 0\n",
    "for iStep in range(1,maxStep+1):\n",
    "    xplot.append(r[0])\n",
    "    yplot.append(r[1])\n",
    "    t = (iStep-1)*tau\n",
    "    xNoAir.append(r1[0]+v1[0]*t)\n",
    "    yNoAir.append(r1[1]+v1[1]*t-0.5*grav*t*t)\n",
    "    normV = math.sqrt(v[0]*v[0]+v[1]*v[1])\n",
    "    accel[0]=air_const*normV*v[0]\n",
    "    accel[1]=air_const*normV*v[1]-grav\n",
    "    \n",
    "    # Euler Method\n",
    "    #r[0] = r[0] + tau*v[0]\n",
    "    #r[1] = r[1] + tau*v[1]\n",
    "    #v[0] = v[0] + tau*accel[0]\n",
    "    #v[1] = v[1] + tau*accel[1]\n",
    "    \n",
    "    # Euler-Cromer Method\n",
    "    #v[0] = v[0] + tau*accel[0]\n",
    "    #v[1] = v[1] + tau*accel[1]    \n",
    "    #r[0] = r[0] + tau*v[0]\n",
    "    #r[1] = r[1] + tau*v[1]\n",
    "    \n",
    "    # MidPoint Method\n",
    "    vxnew = v[0] + tau*accel[0]\n",
    "    vynew = v[1] + tau*accel[1]\n",
    "    r[0] = r[0] + tau*(v[0] + vxnew)/2.0\n",
    "    r[1] = r[1] + tau*(v[1] + vynew)/2.0\n",
    "    v[0] = vxnew\n",
    "    v[1] = vynew    \n",
    "    \n",
    "    #print (\"x = %f     vx = %f    ax = %f\" %(r[0],v[0],accel[0]))\n",
    "    #print (\"y = %f     vy = %f    ay = %f\" %(r[1],v[1],accel[1]))\n",
    "    \n",
    "    time.append(tau*(iStep-1))\n",
    "    \n",
    "    if (r[1] < 20 and v[1] < 0):\n",
    "        xplot.append(r[0])\n",
    "        yplot.append(r[1])\n",
    "        time.append(tau*iStep)\n",
    "        endtime = tau*iStep\n",
    "        nelements = iStep\n",
    "        break\n",
    "        \n",
    "print (\"Maximum range is %f meters.\" % r[0])\n",
    "print (\"Theory maximum range is %f meters.\" % (speed*speed/grav*math.sin(2.0*theta*Pi/180.0)))\n",
    "print (\" \")\n",
    "\n",
    "print (\"Time of flight is %f seconds.\" % endtime)\n",
    "print (\"Theory time of flight is %f seconds.\" % (2.0*speed/grav*math.sin(theta*Pi/180.0)))\n",
    "print (\" \")\n",
    "\n",
    "max_y = np.amax(yNoAir)+1\n",
    "max_x = np.amax(xNoAir)+1\n",
    "max_t = np.amax(time)+1\n",
    "\n",
    "print (\"Max y = %f\" % max_y)\n",
    "print (\"Theory Max y = %f\" % (speed*speed/(2.0*grav)*math.pow(math.sin(theta*Pi/180.0),2)))\n",
    "print (\" \")\n",
    "\n",
    "\n",
    "print (\"Number of elements = %d\" % nelements)"
   ]
  },
  {
   "cell_type": "code",
   "execution_count": 6,
   "metadata": {},
   "outputs": [
    {
     "name": "stdout",
     "output_type": "stream",
     "text": [
      "Welcome to JupyROOT 6.18/04\n"
     ]
    }
   ],
   "source": [
    "from ROOT import TCanvas\n",
    "from ROOT import TGraph\n",
    "from ROOT import gStyle\n",
    "\n",
    "xcanvas = 1000\n",
    "ycanvas = 500\n",
    "\n",
    "c1 = TCanvas( 'c1', 'XY Projectile', 0, 0, xcanvas, ycanvas )\n",
    "c1.SetGridx()\n",
    "c1.SetGridy()\n",
    "c1.GetFrame().SetFillColor( 21 )\n",
    "c1.GetFrame().SetBorderMode(-1 )\n",
    "c1.GetFrame().SetBorderSize( 5 )\n",
    "\n",
    "c2 = TCanvas( 'c2', 'XT Projectile', 0, 0, xcanvas, ycanvas )\n",
    "c2.SetGridx()\n",
    "c2.SetGridy()\n",
    "c2.GetFrame().SetFillColor( 21 )\n",
    "c2.GetFrame().SetBorderMode(-1 )\n",
    "c2.GetFrame().SetBorderSize( 5 )\n",
    "\n",
    "c3 = TCanvas( 'c3', 'YT Projectile', 0, 0, xcanvas, ycanvas )\n",
    "c3.SetGridx()\n",
    "c3.SetGridy()\n",
    "c3.GetFrame().SetFillColor( 21 )\n",
    "c3.GetFrame().SetBorderMode(-1 )\n",
    "c3.GetFrame().SetBorderSize( 5 )\n",
    "\n",
    "gr = TGraph(nelements,xplot,yplot)\n",
    "grr = TGraph(nelements,xNoAir,yNoAir)\n",
    "\n",
    "gxt = TGraph(nelements,time,xplot)\n",
    "gxtt = TGraph(nelements,time,xNoAir)\n",
    "\n",
    "gyt = TGraph(nelements,time,yplot)\n",
    "gytt = TGraph(nelements,time,yNoAir)"
   ]
  },
  {
   "cell_type": "code",
   "execution_count": 7,
   "metadata": {},
   "outputs": [
    {
     "data": {
      "image/png": "[encoded data removed]",
      "text/plain": [
       "<IPython.core.display.Image object>"
      ]
     },
     "metadata": {},
     "output_type": "display_data"
    }
   ],
   "source": [
    "gr.SetMarkerColor(3)\n",
    "grr.SetMarkerColor(2)\n",
    "gr.SetMarkerStyle(21)\n",
    "grr.SetMarkerStyle(22)\n",
    "grr.SetTitle(\"Projectile XY\")\n",
    "grr.GetXaxis().SetTitle(\"X\")\n",
    "grr.GetYaxis().SetTitle(\"Y\")\n",
    "axis = grr.GetXaxis()\n",
    "axis.SetLimits(-0.1*max_x,1.1*max_x)\n",
    "grr.GetHistogram().SetMaximum(1.1*max_x*ycanvas/xcanvas)\n",
    "grr.GetHistogram().SetMinimum(-0.1*max_x*ycanvas/xcanvas)\n",
    "\n",
    "c1.cd()\n",
    "grr.Draw(\"AP\")\n",
    "gr.Draw(\"P\")\n",
    "c1.Draw()"
   ]
  },
  {
   "cell_type": "code",
   "execution_count": 8,
   "metadata": {},
   "outputs": [
    {
     "data": {
      "image/png": "[encoded data removed]",
      "text/plain": [
       "<IPython.core.display.Image object>"
      ]
     },
     "metadata": {},
     "output_type": "display_data"
    }
   ],
   "source": [
    "gxt.SetMarkerColor(3)\n",
    "gxtt.SetMarkerColor(2)\n",
    "gxt.SetMarkerStyle(21)\n",
    "gxtt.SetMarkerStyle(22)\n",
    "gxtt.SetTitle(\"Projectile XT\")\n",
    "gxtt.GetXaxis().SetTitle(\"T\")\n",
    "gxtt.GetYaxis().SetTitle(\"X\")\n",
    "axis = gxtt.GetXaxis()\n",
    "axis.SetLimits(-0.1*max_t,1.1*max_t)\n",
    "gxtt.GetHistogram().SetMaximum(1.1*max_x)\n",
    "gxtt.GetHistogram().SetMinimum(-0.1*max_x)\n",
    "\n",
    "c2.cd()\n",
    "gxtt.Draw(\"AP\")\n",
    "gxt.Draw(\"P\")\n",
    "c2.Draw()"
   ]
  },
  {
   "cell_type": "code",
   "execution_count": 9,
   "metadata": {},
   "outputs": [
    {
     "data": {
      "image/png": "[encoded data removed]",
      "text/plain": [
       "<IPython.core.display.Image object>"
      ]
     },
     "metadata": {},
     "output_type": "display_data"
    }
   ],
   "source": [
    "gyt.SetMarkerColor(3)\n",
    "gytt.SetMarkerColor(2)\n",
    "gyt.SetMarkerStyle(21)\n",
    "gytt.SetMarkerStyle(22)\n",
    "gytt.SetTitle(\"Projectile YT\")\n",
    "gytt.GetXaxis().SetTitle(\"T\")\n",
    "gytt.GetYaxis().SetTitle(\"Y\")\n",
    "axis = gytt.GetXaxis()\n",
    "axis.SetLimits(-0.1*max_t,1.1*max_t)\n",
    "gytt.GetHistogram().SetMaximum(1.1*max_y)\n",
    "gytt.GetHistogram().SetMinimum(-0.1*max_y)\n",
    "\n",
    "c3.cd()\n",
    "gytt.Draw(\"AP\")\n",
    "gyt.Draw(\"P\")\n",
    "c3.Draw()"
   ]
  },
  {
   "cell_type": "code",
   "execution_count": null,
   "metadata": {},
   "outputs": [],
   "source": []
  },
  {
   "cell_type": "code",
   "execution_count": null,
   "metadata": {},
   "outputs": [],
   "source": []
  }
 ],
 "metadata": {
  "kernelspec": {
   "display_name": "Python 3",
   "language": "python",
   "name": "python3"
  },
  "language_info": {
   "codemirror_mode": {
    "name": "ipython",
    "version": 3
   },
   "file_extension": ".py",
   "mimetype": "text/x-python",
   "name": "python",
   "nbconvert_exporter": "python",
   "pygments_lexer": "ipython3",
   "version": "3.6.8"
  }
 },
 "nbformat": 4,
 "nbformat_minor": 2
}
