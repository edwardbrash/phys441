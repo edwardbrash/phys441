{
 "cells": [
  {
   "cell_type": "code",
   "execution_count": 1,
   "metadata": {},
   "outputs": [
    {
     "name": "stdout",
     "output_type": "stream",
     "text": [
      "Welcome to JupyROOT 6.18/00\n"
     ]
    }
   ],
   "source": [
    "from ROOT import TCanvas, TFile\n",
    "from ROOT import TGraphErrors, TF1\n",
    "from ROOT import gStyle\n",
    "from array import array\n",
    "import math\n",
    "import numpy as np\n",
    "import random\n",
    "\n",
    "c1 = TCanvas( 'c1', 'Non-Linear Fitting Example with Errors', 200, 10, 700, 500 )\n",
    "c1.SetGridx()\n",
    "c1.SetGridy()\n",
    "c1.GetFrame().SetFillColor( 21 )\n",
    "c1.GetFrame().SetBorderMode(-1 )\n",
    "c1.GetFrame().SetBorderSize( 5 )"
   ]
  },
  {
   "cell_type": "code",
   "execution_count": 2,
   "metadata": {},
   "outputs": [],
   "source": [
    "def fitfunction(x,par):\n",
    "    return par[0]*x/(par[1]+x)\n",
    "\n",
    "def fitfunction_root(x,par):\n",
    "    return par[0]*x[0]/(par[1]+x[0])"
   ]
  },
  {
   "cell_type": "code",
   "execution_count": 3,
   "metadata": {},
   "outputs": [],
   "source": [
    "def jacobian_beta1(x,par):\n",
    "    return -x/(par[1]+x)"
   ]
  },
  {
   "cell_type": "code",
   "execution_count": 4,
   "metadata": {},
   "outputs": [],
   "source": [
    "def jacobian_beta2(x,par):\n",
    "    return par[0]*x/((par[1]+x)*(par[1]+x))"
   ]
  },
  {
   "cell_type": "code",
   "execution_count": 5,
   "metadata": {},
   "outputs": [],
   "source": [
    "gStyle.SetOptFit(1)\n",
    "\n",
    "par_actual = array('d')\n",
    "par_actual.append(0.3797)\n",
    "par_actual.append(0.5111)\n",
    "\n",
    "beta_order = 2 #Set the order of the polynomial\n",
    "m = 7 #Set the number of data points\n",
    "x = array('d')\n",
    "y = array('d')\n",
    "ex = array('d')\n",
    "ey = array('d')\n",
    "\n",
    "x.append(0.038)\n",
    "x.append(0.194)\n",
    "x.append(0.425)\n",
    "x.append(0.626)\n",
    "x.append(1.253)\n",
    "x.append(2.500)\n",
    "x.append(3.740)"
   ]
  },
  {
   "cell_type": "code",
   "execution_count": 6,
   "metadata": {},
   "outputs": [],
   "source": [
    "random.seed(1)\n",
    "\n",
    "for i in range(0,m):\n",
    "    r = random.gauss(0.0,0.005)\n",
    "    y.append(fitfunction(x[i],par_actual)+r)\n",
    "    ex.append(0)\n",
    "    ey.append(0.005)"
   ]
  },
  {
   "cell_type": "code",
   "execution_count": 7,
   "metadata": {},
   "outputs": [],
   "source": [
    "n = beta_order\n",
    "\n",
    "Jacobian = np.zeros(shape = (m,n))\n",
    "Jacobian2 = np.zeros(shape = (m,n))\n",
    "JacobianT = np.zeros(shape = (n,m))\n",
    "Weights = np.zeros(shape = (m,m))\n",
    "JTW = np.zeros(shape = (n,m))\n",
    "WJ = np.zeros(shape = (m,n))\n",
    "residuals = np.zeros(shape = (m,1))\n",
    "JTWr = np.zeros(shape = (n,1))\n",
    "JTWJ = np.zeros(shape = (n,n))\n",
    "JTWJInv = np.zeros(shape = (n,n))\n",
    "\n",
    "betas = np.zeros(shape = (n,1))\n",
    "Delta = np.zeros(shape = (n,1))"
   ]
  },
  {
   "cell_type": "code",
   "execution_count": 8,
   "metadata": {},
   "outputs": [],
   "source": [
    "betas[0][0] = 0.90\n",
    "betas[1][0] = 0.20\n",
    "\n",
    "parameter_matrix = array('d')\n",
    "parameter_matrix_dbeta = array('d')\n",
    "parameter_matrix.append(betas[0][0])\n",
    "parameter_matrix.append(betas[1][0])\n",
    "parameter_matrix_dbeta.append(betas[0][0])\n",
    "parameter_matrix_dbeta.append(betas[1][0])\n",
    "\n",
    "dbetamax = 10000\n",
    "dbeta = 0\n",
    "epsilon = 0.000001\n",
    "epsilon_beta = 0.005\n",
    "\n",
    "jacobian_flag = 1"
   ]
  },
  {
   "cell_type": "code",
   "execution_count": 9,
   "metadata": {},
   "outputs": [],
   "source": [
    "while (dbetamax > epsilon):\n",
    "    for i in range(0,m):\n",
    "        function_value = fitfunction(x[i],parameter_matrix)\n",
    "        residuals[i][0]=y[i]-function_value\n",
    "        \n",
    "        for k in range(0,m):\n",
    "            if (i==k):\n",
    "                Weights[i][k]=1.0/(ey[i]*ey[i])\n",
    "            else:\n",
    "                Weights[i][k]=0.0\n",
    "                \n",
    "        if (jacobian_flag == 1):\n",
    "            for j in range(0,n):\n",
    "                for k in range(0,n):\n",
    "                    if (k==j):\n",
    "                        parameter_matrix_dbeta[k]=parameter_matrix[k]+epsilon_beta\n",
    "                    else:\n",
    "                        parameter_matrix_dbeta[k]=parameter_matrix[k]\n",
    "                f0 = fitfunction(x[i],parameter_matrix)\n",
    "                f1 = fitfunction(x[i],parameter_matrix_dbeta)\n",
    "                jacobian = (f0-f1)/epsilon_beta\n",
    "                Jacobian[i][j]=jacobian\n",
    "                #print(i,j,jacobian)\n",
    "                #print(parameter_matrix[0],parameter_matrix_dbeta[0])\n",
    "                #print(parameter_matrix[1],parameter_matrix_dbeta[1])\n",
    "                #print(f0,f1)    \n",
    "        else:\n",
    "            for j in range(0,n):\n",
    "                if (j==0):\n",
    "                    jacobian = jacobian_beta1(x[i],parameter_matrix)\n",
    "                else:\n",
    "                    jacobian = jacobian_beta2(x[i],parameter_matrix)\n",
    "                Jacobian[i][j]=jacobian\n",
    "                #print(i,j,jacobian)\n",
    "            \n",
    "    JacobianT = Jacobian.transpose()\n",
    "    JTW = np.array(np.matrix(JacobianT)*np.matrix(Weights))\n",
    "    JTWr = np.array(np.matrix(JTW)*np.matrix(residuals))\n",
    "    WJ = np.array(np.matrix(Weights)*np.matrix(Jacobian))\n",
    "    JTWJ = np.array(np.matrix(JacobianT)*np.matrix(WJ))\n",
    "    JTWJInv = np.array(np.linalg.inv(JTWJ))\n",
    "    Delta = np.array(np.matrix(JTWJInv)*np.matrix(JTWr))\n",
    "\n",
    "    dbetamax = 0.0\n",
    "    \n",
    "    for j in range(0,n):\n",
    "        parameter_matrix[j]=parameter_matrix[j]-Delta[j][0]\n",
    "        dbeta = math.fabs(Delta[j][0]/parameter_matrix[j])\n",
    "        if (dbeta > dbetamax): \n",
    "            dbetamax = dbeta\n",
    "        #print (\"dbetamax = %f\" % dbetamax )"
   ]
  },
  {
   "cell_type": "code",
   "execution_count": 10,
   "metadata": {},
   "outputs": [
    {
     "name": "stdout",
     "output_type": "stream",
     "text": [
      "[[-0.07288012  0.05141082]\n",
      " [-0.28638737  0.1558393 ]\n",
      " [-0.46785342  0.19020048]\n",
      " [-0.56426685  0.18802111]\n",
      " [-0.72160619  0.15387408]\n",
      " [-0.83796893  0.10412461]\n",
      " [-0.88554158  0.07776734]]\n",
      " \n",
      "[[-0.07288012 -0.28638737 -0.46785342 -0.56426685 -0.72160619 -0.83796893\n",
      "  -0.88554158]\n",
      " [ 0.05141082  0.1558393   0.19020048  0.18802111  0.15387408  0.10412461\n",
      "   0.07776734]]\n",
      " \n",
      "[[-0.00048757]\n",
      " [-0.00017548]]\n",
      " \n",
      "[[105268.17817261 -20424.52611625]\n",
      " [-20424.52611625   5560.96192737]]\n",
      " \n",
      "[[3.30555000e-05 1.21407579e-04]\n",
      " [1.21407579e-04 6.25735674e-04]]\n",
      " \n"
     ]
    }
   ],
   "source": [
    "print(Jacobian)\n",
    "print(\" \")\n",
    "\n",
    "print(JacobianT)\n",
    "print(\" \")\n",
    "\n",
    "print(JTWr)\n",
    "print(\" \")\n",
    "\n",
    "print(JTWJ)\n",
    "print(\" \")\n",
    "\n",
    "print(JTWJInv)\n",
    "print(\" \")\n"
   ]
  },
  {
   "cell_type": "code",
   "execution_count": 11,
   "metadata": {},
   "outputs": [
    {
     "name": "stdout",
     "output_type": "stream",
     "text": [
      "i x y fit = 0 0.038000 0.032718 0.027063 \n",
      "i x y fit = 1 0.194000 0.111717 0.106345 \n",
      "i x y fit = 2 0.425000 0.172720 0.173730 \n",
      "i x y fit = 3 0.626000 0.205211 0.209531 \n",
      "i x y fit = 4 1.253000 0.264231 0.267957 \n",
      "i x y fit = 5 2.500000 0.315407 0.311166 \n",
      "i x y fit = 6 3.740000 0.328939 0.328832 \n",
      " \n",
      "chi2/dof = 4.495800 / 5.000000\n",
      " beta[1] = 0.371334 +/- 0.005749\n",
      " beta[2] = 0.483404 +/- 0.025015\n"
     ]
    }
   ],
   "source": [
    "error_sum = 0\n",
    "yfit = 0\n",
    "error = array('d')\n",
    "\n",
    "for j in range(0,m):\n",
    "    yfit = fitfunction(x[j],parameter_matrix)\n",
    "    print (\"i x y fit = %d %f %f %f \" % (j,x[j],y[j],yfit))\n",
    "    error_sum = error_sum + (yfit-y[j])*(yfit-y[j])/(ey[j]*ey[j])\n",
    "    yfit = 0\n",
    "\n",
    "print (\" \")\n",
    "    \n",
    "chi2 = error_sum/(m-n)\n",
    "print (\"chi2/dof = %f / %f\" % (error_sum,(m-n)))\n",
    "\n",
    "for k in range(0,n):\n",
    "        error.append(math.sqrt(JTWJInv[k][k]))\n",
    "        print(\" beta[%d] = %f +/- %f\" % ((k+1),parameter_matrix[k],error[k]))\n"
   ]
  },
  {
   "cell_type": "code",
   "execution_count": 12,
   "metadata": {},
   "outputs": [
    {
     "name": "stdout",
     "output_type": "stream",
     "text": [
      "Fit 1: 4.495788 5.000000 \n",
      "\n",
      " **********\n",
      " **    1 **SET PRINT           2\n",
      " **********\n",
      " **********\n",
      " **    2 **SET NOGRAD\n",
      " **********\n",
      " PARAMETER DEFINITIONS:\n",
      "    NO.   NAME         VALUE      STEP SIZE      LIMITS\n",
      "     1 Vmax         3.00000e-01  9.00000e-02     no limits\n",
      "     2 Km           7.50000e-01  2.25000e-01     no limits\n",
      " **********\n",
      " **    3 **SET ERR           1\n",
      " **********\n",
      " **********\n",
      " **    4 **SET PRINT           2\n",
      " **********\n",
      " **********\n",
      " **    5 **SET STR           1\n",
      " **********\n",
      " NOW USING STRATEGY  1: TRY TO BALANCE SPEED AGAINST RELIABILITY\n",
      " **********\n",
      " **    6 **MIGRAD        1220        0.01\n",
      " **********\n",
      " FIRST CALL TO USER FUNCTION AT NEW START POINT, WITH IFLAG=4.\n",
      " START MIGRAD MINIMIZATION.  STRATEGY  1.  CONVERGENCE WHEN EDM .LT. 1.00e-05\n",
      " FCN=201.846 FROM MIGRAD    STATUS=INITIATE       21 CALLS          22 TOTAL\n",
      "                     EDM= unknown      STRATEGY= 1      NO ERROR MATRIX       \n",
      "  EXT PARAMETER               CURRENT GUESS       STEP         FIRST   \n",
      "  NO.   NAME      VALUE            ERROR          SIZE      DERIVATIVE \n",
      "   1  Vmax         3.00000e-01   9.00000e-02   0.00000e+00  -6.68703e+03\n",
      "   2  Km           2.68671e-01   2.25000e-01  -4.81329e-01   1.73301e+02\n",
      "NO ERROR MATRIX       \n",
      " FCN=130.115 FROM MIGRAD    STATUS=PROGRESS       27 CALLS          28 TOTAL\n",
      "                     EDM=169.194    STRATEGY= 1      NO ERROR MATRIX       \n",
      "  EXT PARAMETER               CURRENT GUESS       STEP         FIRST   \n",
      "  NO.   NAME      VALUE            ERROR          SIZE      DERIVATIVE \n",
      "   1  Vmax         3.21243e-01   9.00000e-02   2.12429e-02  -4.10969e+02\n",
      "   2  Km           2.61877e-01   2.25000e-01  -6.79351e-03  -1.36454e+03\n",
      " MIGRAD MINIMIZATION HAS CONVERGED.\n",
      " MIGRAD WILL VERIFY CONVERGENCE AND ERROR MATRIX.\n",
      "   START COVARIANCE MATRIX CALCULATION.\n",
      " EIGENVALUES OF SECOND-DERIVATIVE MATRIX:\n",
      "         1.5265e-01  1.8473e+00\n",
      " COVARIANCE MATRIX CALCULATED SUCCESSFULLY\n",
      " FCN=4.49579 FROM MIGRAD    STATUS=CONVERGED      65 CALLS          66 TOTAL\n",
      "                     EDM=4.18491e-08    STRATEGY= 1      ERROR MATRIX ACCURATE \n",
      "  EXT PARAMETER                                   STEP         FIRST   \n",
      "  NO.   NAME      VALUE            ERROR          SIZE      DERIVATIVE \n",
      "   1  Vmax         3.71317e-01   5.80366e-03   3.52770e-06   5.83278e-02\n",
      "   2  Km           4.83316e-01   2.52517e-02   1.53465e-05  -2.03359e-02\n",
      " EXTERNAL ERROR MATRIX.    NDIM=  25    NPAR=  2    ERR DEF=1\n",
      "  3.368e-05  1.242e-04 \n",
      "  1.242e-04  6.377e-04 \n",
      " PARAMETER  CORRELATION COEFFICIENTS  \n",
      "       NO.  GLOBAL      1      2\n",
      "        1  0.84735   1.000  0.847\n",
      "        2  0.84735   0.847  1.000\n",
      " EXTERNAL ERROR MATRIX.    NDIM=   2    NPAR=  2    ERR DEF=1\n",
      "  3.368e-05  1.242e-04 \n",
      "  1.242e-04  6.377e-04 \n",
      " FCN=4.49579 FROM MIGRAD    STATUS=CONVERGED      65 CALLS          66 TOTAL\n",
      "                     EDM=4.18491e-08    STRATEGY= 1      ERROR MATRIX ACCURATE \n",
      "  EXT PARAMETER                  PARABOLIC         MINOS ERRORS        \n",
      "  NO.   NAME      VALUE            ERROR      NEGATIVE      POSITIVE   \n",
      "   1  Vmax         3.71317e-01   5.80366e-03                            \n",
      "   2  Km           4.83316e-01   2.52517e-02                            \n"
     ]
    },
    {
     "name": "stderr",
     "output_type": "stream",
     "text": [
      "Info in <TMinuitMinimizer::Minimize>: Finished to run MIGRAD - status 0\n"
     ]
    }
   ],
   "source": [
    "gr = TGraphErrors(m,x,y,ex,ey)\n",
    "pfit1 = TF1(\"fitfunction\",fitfunction_root,0.0,4.0,2)\n",
    "pfit1.SetParameters(0.30,0.75)\n",
    "pfit1.SetParNames(\"Vmax\",\"Km\")\n",
    "gr.SetMarkerStyle(21)\n",
    "gr.SetTitle(\"Non-Linear Fit\")\n",
    "gr.GetXaxis().SetTitle(\"[S]\")\n",
    "gr.GetYaxis().SetTitle(\"Rate\")\n",
    "gr.Fit(\"fitfunction\",\"V\")\n",
    "pfit1chi2 = pfit1.GetChisquare()\n",
    "pfit1ndf = pfit1.GetNDF()\n",
    "pfit1chi2ndf = pfit1chi2/pfit1ndf\n",
    "print(\"Fit 1: %f %f \\n\" % (pfit1chi2,pfit1ndf))\n",
    "gr.Draw(\"AP\")"
   ]
  },
  {
   "cell_type": "code",
   "execution_count": 13,
   "metadata": {},
   "outputs": [
    {
     "data": {
      "image/png": "[encoded data removed]",
      "text/plain": [
       "<IPython.core.display.Image object>"
      ]
     },
     "metadata": {},
     "output_type": "display_data"
    }
   ],
   "source": [
    "c1.Draw()"
   ]
  },
  {
   "cell_type": "code",
   "execution_count": 14,
   "metadata": {},
   "outputs": [],
   "source": [
    "c2 = TCanvas( 'c2', 'S^2 Histogram', 200, 10, 700, 500 )\n",
    "c2.SetGridx()\n",
    "c2.SetGridy()\n",
    "c2.GetFrame().SetFillColor( 21 )\n",
    "c2.GetFrame().SetBorderMode(-1 )\n",
    "c2.GetFrame().SetBorderSize( 5 )"
   ]
  },
  {
   "cell_type": "code",
   "execution_count": 15,
   "metadata": {},
   "outputs": [],
   "source": [
    "nbins = 101\n",
    "xwidth = 0.2000\n",
    "ywidth = 0.5000\n",
    "xlow = parameter_matrix[0]-xwidth/2.0\n",
    "xhigh = parameter_matrix[0]+xwidth/2.0\n",
    "ylow = parameter_matrix[1]-ywidth/2.0\n",
    "yhigh = parameter_matrix[1]+ywidth/2.0"
   ]
  },
  {
   "cell_type": "code",
   "execution_count": 16,
   "metadata": {},
   "outputs": [],
   "source": [
    "from ROOT import TH2D\n",
    "h2 = TH2D(\"h2\",\"S^2 Histogram\",nbins,xlow,xhigh,nbins,ylow,yhigh)"
   ]
  },
  {
   "cell_type": "code",
   "execution_count": 17,
   "metadata": {},
   "outputs": [],
   "source": [
    "b1 = array('d')\n",
    "b2 = array('d')\n",
    "pars = array('d')\n",
    "pars.append(0)\n",
    "pars.append(0)\n",
    "for j in range(0,nbins):\n",
    "    b1.append(0)\n",
    "    b2.append(0)\n",
    "    \n",
    "for j in range(0,nbins):\n",
    "    pars[0]=(parameter_matrix[0]+(j-(nbins-1.0)/2.0)/(nbins-1)*xwidth)\n",
    "    b1[j]=pars[0]\n",
    "    for k in range(0,nbins):\n",
    "        pars[1]=(parameter_matrix[1]+(k-(nbins-1.0)/2.0)/(nbins-1)*ywidth)\n",
    "        b2[k]=pars[1]\n",
    "        sum = 0\n",
    "        for i in range(0,m):\n",
    "            yfit = fitfunction(x[i],pars)\n",
    "            sum = sum + (yfit-y[i])*(yfit-y[i])/(ey[i]*ey[i])\n",
    "        h2.Fill(b1[j],b2[k],sum)"
   ]
  },
  {
   "cell_type": "code",
   "execution_count": 18,
   "metadata": {},
   "outputs": [
    {
     "data": {
      "image/png": "[encoded data removed]",
      "text/plain": [
       "<IPython.core.display.Image object>"
      ]
     },
     "metadata": {},
     "output_type": "display_data"
    }
   ],
   "source": [
    "c2.SetLogz()\n",
    "h2.Draw(\"COLZ\")\n",
    "c2.Draw()\n"
   ]
  },
  {
   "cell_type": "code",
   "execution_count": null,
   "metadata": {},
   "outputs": [],
   "source": []
  }
 ],
 "metadata": {
  "kernelspec": {
   "display_name": "Python 3",
   "language": "python",
   "name": "python3"
  },
  "language_info": {
   "codemirror_mode": {
    "name": "ipython",
    "version": 3
   },
   "file_extension": ".py",
   "mimetype": "text/x-python",
   "name": "python",
   "nbconvert_exporter": "python",
   "pygments_lexer": "ipython3",
   "version": "3.7.3"
  }
 },
 "nbformat": 4,
 "nbformat_minor": 2
}
