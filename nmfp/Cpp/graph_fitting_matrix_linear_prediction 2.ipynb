{
 "cells": [
  {
   "cell_type": "code",
   "execution_count": 1,
   "metadata": {},
   "outputs": [],
   "source": [
    "from array import array\n",
    "import math\n",
    "import numpy as np"
   ]
  },
  {
   "cell_type": "code",
   "execution_count": 2,
   "metadata": {},
   "outputs": [],
   "source": [
    "def generator_function(x,par,ichoice):\n",
    "    sum = 0.0\n",
    "    for i in range(len(par)):\n",
    "        sum = sum + par[i]*math.pow(x,i)\n",
    "    return sum"
   ]
  },
  {
   "cell_type": "code",
   "execution_count": 3,
   "metadata": {},
   "outputs": [],
   "source": [
    "ichoice = 6"
   ]
  },
  {
   "cell_type": "code",
   "execution_count": 4,
   "metadata": {},
   "outputs": [],
   "source": [
    "if ichoice == 1:\n",
    "    m = 1\n",
    "    n = 15\n",
    "    par = array('d')\n",
    "    par.append(1.80)\n",
    "    par.append(4.05)\n",
    "    jitter = array('d')\n",
    "    jitter = [-2,2,-1,1,0,-2,2,-1,1,0,-2,2,-1,1,0]\n",
    "    sigma = array('d')\n",
    "    sigma = [7,6,5,4,3,2,1,.5,1,2,3,4,5,6,7]\n",
    "    Title = \"Linear Fit\"\n",
    "    xlow = -4.0\n",
    "    xhigh = 4.0\n",
    "elif ichoice == 2:\n",
    "    m = 1\n",
    "    n = 10\n",
    "    par = array('d')\n",
    "    par.append(6.81)\n",
    "    par.append(0.656)\n",
    "    jitter = array('d')\n",
    "    jitter = [.3,.2,-.5,-.2,.2,.6,-.4,-1.5,.7,.5]\n",
    "    sigma = array('d')\n",
    "    sigma = [0.51,0.51,0.51,0.51,0.51,0.51,0.51,0.51,0.51,0.51]\n",
    "    Title = \"Linear Fit\"\n",
    "    xlow = 41.0\n",
    "    xhigh = 50.0\n",
    "elif ichoice == 3:\n",
    "    m = 1\n",
    "    n = 15\n",
    "    par = array('d')\n",
    "    par.append(1.80)\n",
    "    par.append(4.05)\n",
    "    jitter = array('d')\n",
    "    jitter = [-2,2,-1,1,0,-2,2,-1,1,0,-2,2,-1,1,0] \n",
    "    sigma = array('d')\n",
    "    sigma = [.7,6,5,4,3,2,1,.5,1,2,3,4,5,6,.7]\n",
    "    Title = \"Linear Fit\"\n",
    "    xlow = -4.0\n",
    "    xhigh = 4.0\n",
    "elif ichoice == 4:\n",
    "    m = 1\n",
    "    n = 15\n",
    "    par = array('d')\n",
    "    par.append(1.80)\n",
    "    par.append(4.05)\n",
    "    jitter = array('d')\n",
    "    jitter = [-2,2,-1,1,0,-2,2,-1,1,0,-2,2,-1,1,0]\n",
    "    sigma = array('d') \n",
    "    sigma = [1,2,3,4,5,6,7,8,7,6,5,4,3,2,1]\n",
    "    Title = \"Linear Fit\"\n",
    "    xlow = -4.0\n",
    "    xhigh = 4.0\n",
    "elif ichoice == 5:\n",
    "    m = 3\n",
    "    n = 15\n",
    "    par = array('d')\n",
    "    par.append(1.80)\n",
    "    par.append(4.05)\n",
    "    par.append(0.00)\n",
    "    par.append(0.20)\n",
    "    jitter = array('d')\n",
    "    jitter = [-2,2,-1,1,0,-2,2,-1,1,0,-2,2,-1,1,0]\n",
    "    sigma = array('d')\n",
    "    sigma = [7,6,5,4,3,2,1,.5,1,2,3,4,5,6,7]\n",
    "    Title = \"Cubic Fit\"\n",
    "    xlow = -4.0\n",
    "    xhigh = 4.0\n",
    "elif ichoice == 6:\n",
    "    m = 2\n",
    "    n = 15\n",
    "    par = array('d')\n",
    "    par.append(1.80)\n",
    "    par.append(4.05)\n",
    "    par.append(5.10)\n",
    "    jitter = array('d')\n",
    "    jitter = [-2,2,-1,1,0,-2,2,-1,1,0,-2,2,-1,1,0]\n",
    "    sigma = array('d')\n",
    "    sigma = [1,2,3,4,5,6,7,8,7,6,5,4,3,2,1]\n",
    "    Title = \"Quadratic Fit\"\n",
    "    xlow = -4.0\n",
    "    xhigh = 4.0\n",
    "else:\n",
    "    print(\"Invalid choice!!!!\")"
   ]
  },
  {
   "cell_type": "code",
   "execution_count": 5,
   "metadata": {},
   "outputs": [],
   "source": [
    "x = array('d')\n",
    "y = array('d')\n",
    "ex = array('d')\n",
    "ey = array('d')\n",
    "\n",
    "rootfitstring = \"pol\"+str(m)"
   ]
  },
  {
   "cell_type": "code",
   "execution_count": 6,
   "metadata": {},
   "outputs": [],
   "source": [
    "for i in range(0,n):\n",
    "    x.append(xlow+(xhigh-xlow)*i/(n-1))\n",
    "    y.append(generator_function(x[i],par,ichoice)+jitter[i])\n",
    "    ex.append(0.0)\n",
    "    ey.append(sigma[i])"
   ]
  },
  {
   "cell_type": "code",
   "execution_count": 7,
   "metadata": {},
   "outputs": [],
   "source": [
    "m_params = m + 1\n",
    "a = np.zeros(shape = (m_params,m_params))\n",
    "v = np.zeros(shape = (m_params,1))"
   ]
  },
  {
   "cell_type": "code",
   "execution_count": 8,
   "metadata": {},
   "outputs": [
    {
     "name": "stdout",
     "output_type": "stream",
     "text": [
      "A matrix = \n",
      "[[  3.0392191    0.          40.66566338]\n",
      " [  0.          40.66566338   0.        ]\n",
      " [ 40.66566338   0.         600.10180762]]\n",
      "V matrix = \n",
      "[[ 211.49079934]\n",
      " [ 171.89633838]\n",
      " [3109.41159962]]\n",
      "A_inverse = \n",
      "[[ 3.52700853  0.         -0.23900635]\n",
      " [ 0.          0.02459077  0.        ]\n",
      " [-0.23900635 -0.          0.01786256]]\n",
      "Diagonal Check:\n",
      "[[1.00000000e+00 0.00000000e+00 2.12580876e-17]\n",
      " [0.00000000e+00 1.00000000e+00 0.00000000e+00]\n",
      " [8.51533825e-15 0.00000000e+00 1.00000000e+00]]\n",
      "Coefficients:\n",
      "k = 0, coeff = 2.760742 +/- 1.878033\n",
      "k = 1, coeff = 4.227063 +/- 0.156814\n",
      "k = 2, coeff = 4.994393 +/- 0.133651\n"
     ]
    }
   ],
   "source": [
    "for k in range(0,m_params):\n",
    "    for i in range(0,n):\n",
    "        v[k][0]=v[k][0]+y[i]*math.pow(x[i],k)/math.pow(ey[i],2)\n",
    "    #print (\"v[%d] = %f\" % (k,v[k][0]))\n",
    "    for j in range(0,m_params):\n",
    "        for i in range(0,n):\n",
    "            a[k][j]=a[k][j]+math.pow(x[i],k+j)/math.pow(ey[i],2)\n",
    "        #print (\"a[%d][%d] = %f\" %(k,j,a[k][j]))\n",
    "        \n",
    "print (\"A matrix = \")        \n",
    "print (a)\n",
    "print(\"V matrix = \")\n",
    "print (v)\n",
    "\n",
    "ainv = np.linalg.inv(a)\n",
    "u1 = np.dot(a,ainv)\n",
    "\n",
    "print (\"A_inverse = \")\n",
    "print (ainv)\n",
    "print (\"Diagonal Check:\")\n",
    "print (u1)\n",
    "coeff = ainv*np.matrix(v)\n",
    "print (\"Coefficients:\")\n",
    "for k in range(0,m+1):\n",
    "    print(\"k = %d, coeff = %f +/- %f\" % (k,coeff[k],math.pow(ainv[k][k],0.5)))"
   ]
  },
  {
   "cell_type": "code",
   "execution_count": 9,
   "metadata": {},
   "outputs": [
    {
     "name": "stdout",
     "output_type": "stream",
     "text": [
      "i = 0  y = 65.200000  yfit = 65.762774\n",
      "i = 1  y = 49.865306  yfit = 46.977551\n",
      "i = 2  y = 30.861224  yfit = 31.453972\n",
      "i = 3  y = 20.187755  yfit = 19.192037\n",
      "i = 4  y = 9.844898  yfit = 10.191747\n",
      "i = 5  y = 1.832653  yfit = 4.453101\n",
      "i = 6  y = 3.151020  yfit = 1.976099\n",
      "i = 7  y = 0.800000  yfit = 2.760742\n",
      "i = 8  y = 6.779592  yfit = 6.807029\n",
      "i = 9  y = 13.089796  yfit = 14.114960\n",
      "i = 10  y = 21.730612  yfit = 24.684536\n",
      "i = 11  y = 39.702041  yfit = 38.515756\n",
      "i = 12  y = 54.004082  yfit = 55.608620\n",
      "i = 13  y = 76.636735  yfit = 75.963129\n",
      "i = 14  y = 99.600000  yfit = 99.579282\n",
      "chi2/dof = 3.652416 / 12.000000\n",
      "[[ 1.          0.         -0.95221362]\n",
      " [ 0.          1.          0.        ]\n",
      " [-0.95221362  0.          1.        ]]\n"
     ]
    }
   ],
   "source": [
    "yfit = 0\n",
    "chi2 = 0\n",
    "rho = array('d')\n",
    "\n",
    "for i in range(0,n):\n",
    "    for j in range(0,m+1):\n",
    "        yfit = yfit + coeff[j]*math.pow(x[i],j)\n",
    "    print (\"i = %d  y = %f  yfit = %f\" % (i,y[i],yfit))\n",
    "    chi2 = chi2 + math.pow(((yfit-y[i])/ey[i]),2)\n",
    "    yfit = 0\n",
    "    \n",
    "chi2perdof = chi2/(n-m)\n",
    "print (\"chi2/dof = %f / %f\" % (chi2,(n-m-1)))\n",
    "\n",
    "rho = np.zeros(shape = (m_params,m_params))\n",
    "\n",
    "for k in range(0,m_params):\n",
    "    for j in range(0,m_params):\n",
    "        rho[k][j]=rho[k][j]+ainv[k][j]/math.sqrt(ainv[k][k]*ainv[j][j])    \n",
    "print (rho)"
   ]
  },
  {
   "cell_type": "code",
   "execution_count": null,
   "metadata": {},
   "outputs": [],
   "source": []
  },
  {
   "cell_type": "code",
   "execution_count": 10,
   "metadata": {},
   "outputs": [
    {
     "name": "stdout",
     "output_type": "stream",
     "text": [
      "0 -4.0 [[65.76277439]] 0.9192779034343469 66.68205229699113 64.84349649012243\n",
      "1 -3.428571428571429 [[46.97755096]] 0.8156461908569933 47.79319715374143 46.16190477202744\n",
      "2 -2.857142857142857 [[31.45397188]] 1.0079415135437637 32.46191339123419 30.446030364146665\n",
      "3 -2.2857142857142856 [[19.19203714]] 1.2828382571716566 20.474875395146437 17.90919888080312\n",
      "4 -1.7142857142857144 [[10.19174674]] 1.5325702185467096 11.724316962284213 8.659176525190794\n",
      "5 -1.1428571428571428 [[4.45310069]] 1.721992073426408 6.175092768404985 2.7311086215521687\n",
      "6 -0.5714285714285716 [[1.97609899]] 1.8387106712642403 3.8148096629622525 0.1373883204337718\n",
      "7 0.0 [[2.76074163]] 1.8780331535526986 4.6387747874485035 0.882708480343106\n",
      "8 0.5714285714285712 [[6.80702862]] 1.8387106712642407 8.645739292836195 4.968317950307713\n",
      "9 1.1428571428571432 [[14.11495995]] 1.721992073426408 15.836952028152878 12.392967881300061\n",
      "10 1.7142857142857144 [[24.68453563]] 1.5325702185467096 26.217105851906044 23.151965414812626\n",
      "11 2.2857142857142856 [[38.51575566]] 1.2828382571716566 39.79859391464221 37.2329174002989\n",
      "12 2.8571428571428568 [[55.60862003]] 1.0079415135437637 56.6165615406039 54.60067851351637\n",
      "13 3.428571428571429 [[75.96312874]] 0.8156461908569933 76.77877493298509 75.1474825512711\n",
      "14 4.0 [[99.5792818]] 0.9192779034343469 100.49855970610874 98.66000389924004\n"
     ]
    }
   ],
   "source": [
    "xfiterr = array('d')\n",
    "yfiterr = array('d')\n",
    "yfitplus2 = array('d')\n",
    "yfitminus2 = array('d')\n",
    "\n",
    "for i in range(0,n):\n",
    "    xfiterr.append(xlow+(xhigh-xlow)*i/(n-1))\n",
    "    yerror2 = 0.0\n",
    "    yval = 0.0\n",
    "    for k in range(0,m+1):\n",
    "        for j in range(0,m+1):\n",
    "            term = rho[k][j]*math.pow(xfiterr[i],k)*math.pow(ainv[k][k],0.5)*(math.pow(xfiterr[i],j)*math.pow(ainv[j][j],0.5))\n",
    "            #print (k,j,term)\n",
    "            yerror2 = yerror2 + term\n",
    "        yval = yval + coeff[k]*math.pow(xfiterr[i],k)\n",
    "    yfiterr.append(yval)\n",
    "    yfitplus2.append(yval+math.sqrt(yerror2))\n",
    "    yfitminus2.append(yval-math.sqrt(yerror2))\n",
    "    print(i,xfiterr[i],yval,math.sqrt(yerror2),yfitplus2[i],yfitminus2[i])"
   ]
  },
  {
   "cell_type": "code",
   "execution_count": 11,
   "metadata": {
    "scrolled": false
   },
   "outputs": [
    {
     "name": "stdout",
     "output_type": "stream",
     "text": [
      "Welcome to JupyROOT 6.18/00\n",
      "Fit 1: 3.652416 12.000000 \n",
      "\n"
     ]
    },
    {
     "data": {
      "image/png": "[encoded data removed]",
      "text/plain": [
       "<IPython.core.display.Image object>"
      ]
     },
     "metadata": {},
     "output_type": "display_data"
    }
   ],
   "source": [
    "#print (n,x,y)\n",
    "\n",
    "from ROOT import TCanvas, TFile\n",
    "from ROOT import TGraph, TF1, TGraphErrors\n",
    "from ROOT import gStyle\n",
    "gStyle.SetOptFit(1)\n",
    "\n",
    "c1 = TCanvas( 'c1', 'Error Band Fitting Example', 200, 10, 1400, 1000 )\n",
    "c1.SetGridx()\n",
    "c1.SetGridy()\n",
    "c1.GetFrame().SetFillColor( 21 )\n",
    "c1.GetFrame().SetBorderMode(-1 )\n",
    "c1.GetFrame().SetBorderSize( 5 )\n",
    "\n",
    "gr = TGraphErrors(n,x,y,ex,ey)\n",
    "grp = TGraph(n,xfiterr,yfitplus2)\n",
    "grm = TGraph(n,xfiterr,yfitminus2)\n",
    "\n",
    "pfit1 = TF1(\"pfit1\",rootfitstring)\n",
    "\n",
    "gr.SetMarkerStyle(21)\n",
    "gr.SetTitle(Title)\n",
    "gr.GetXaxis().SetTitle(\"X\")\n",
    "gr.GetYaxis().SetTitle(\"Y\")\n",
    "gr.GetXaxis().SetLimits(xlow-1.0,xhigh+6.0) \n",
    "#gr.GetHistogram().SetMaximum(5.0)\n",
    "#gr.GetHistogram().SetMinimum(0.0)\n",
    "gr.Fit(\"pfit1\",\"q\")\n",
    "pfit1chi2 = pfit1.GetChisquare()\n",
    "pfit1ndf = pfit1.GetNDF()\n",
    "pfit1chi2ndf = pfit1chi2/pfit1ndf\n",
    "print(\"Fit 1: %f %f \\n\" % (pfit1chi2,pfit1ndf))\n",
    "gr.Draw(\"AP\")\n",
    "grp.SetLineColor(2)\n",
    "grm.SetLineColor(2)\n",
    "grp.Draw(\"L\")\n",
    "grm.Draw(\"L\")\n",
    "c1.Draw()"
   ]
  },
  {
   "cell_type": "code",
   "execution_count": 12,
   "metadata": {},
   "outputs": [
    {
     "name": "stdout",
     "output_type": "stream",
     "text": [
      "P201 Error Calculation = 2.760742 +/- 1.878033 \n",
      "Proper Error Calculation = 2.760742 +/- 1.878033 \n"
     ]
    }
   ],
   "source": [
    "index=7\n",
    "yfitvalue = 0.0\n",
    "yerrorvalue = 0.0\n",
    "for k in range(0,m_params):\n",
    "    yfitvalue = yfitvalue + coeff[k]*math.pow(x[index],k)\n",
    "    yerrorvalue = yerrorvalue + math.pow(math.pow(x[index],k)*math.pow(ainv[k][k],0.5),2)\n",
    "yerrorvalue = math.sqrt(yerrorvalue)\n",
    "print (\"P201 Error Calculation = %f +/- %f \" % (yfitvalue,yerrorvalue))\n",
    "print (\"Proper Error Calculation = %f +/- %f \" % ((yfitplus2[index]+yfitminus2[index])/2.0,(yfitplus2[index]-yfitminus2[index])/2.0))\n"
   ]
  },
  {
   "cell_type": "code",
   "execution_count": null,
   "metadata": {},
   "outputs": [],
   "source": []
  },
  {
   "cell_type": "code",
   "execution_count": null,
   "metadata": {},
   "outputs": [],
   "source": []
  },
  {
   "cell_type": "code",
   "execution_count": null,
   "metadata": {},
   "outputs": [],
   "source": []
  }
 ],
 "metadata": {
  "kernelspec": {
   "display_name": "Python 3",
   "language": "python",
   "name": "python3"
  },
  "language_info": {
   "codemirror_mode": {
    "name": "ipython",
    "version": 3
   },
   "file_extension": ".py",
   "mimetype": "text/x-python",
   "name": "python",
   "nbconvert_exporter": "python",
   "pygments_lexer": "ipython3",
   "version": "3.7.3"
  }
 },
 "nbformat": 4,
 "nbformat_minor": 2
}
