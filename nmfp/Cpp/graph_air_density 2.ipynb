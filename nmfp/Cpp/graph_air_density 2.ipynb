{
 "cells": [
  {
   "cell_type": "markdown",
   "metadata": {},
   "source": [
    "This script is written to get atmospheric data (pressure, temperature, etc., as a function of altitude, from a local data file.  The data is then plotted, and fit with a user-defined function\n",
    "\n",
    "We begin by importing the necessary libraries from ROOT, as well as some python math libraries.\n",
    "\n",
    "We also define a canvas that will be used for displaying the results."
   ]
  },
  {
   "cell_type": "code",
   "execution_count": 1,
   "metadata": {},
   "outputs": [
    {
     "name": "stdout",
     "output_type": "stream",
     "text": [
      "Welcome to JupyROOT 6.16/00\n"
     ]
    }
   ],
   "source": [
    "from ROOT import TCanvas, TFile\n",
    "from ROOT import TGraph, TF1\n",
    "from ROOT import gStyle\n",
    "from array import array\n",
    "import math\n",
    "\n",
    "c1 = TCanvas( 'c1', 'The Fit Canvas', 200, 10, 700, 500 )\n",
    "c1.SetGridx()\n",
    "c1.SetGridy()\n",
    "c1.GetFrame().SetFillColor( 21 )\n",
    "c1.GetFrame().SetBorderMode(-1 )\n",
    "c1.GetFrame().SetBorderSize( 5 )\n",
    "c1.SetLogy()"
   ]
  },
  {
   "cell_type": "markdown",
   "metadata": {},
   "source": [
    "Define a user funcion for fitting the data."
   ]
  },
  {
   "cell_type": "code",
   "execution_count": 2,
   "metadata": {},
   "outputs": [],
   "source": [
    "def fitfunction(x,par):\n",
    "    return par[0]*math.exp(par[1]*x[0]+par[2]*math.pow(x[0],1.5))"
   ]
  },
  {
   "cell_type": "markdown",
   "metadata": {},
   "source": [
    "Define python arrays to store the data."
   ]
  },
  {
   "cell_type": "code",
   "execution_count": 3,
   "metadata": {},
   "outputs": [],
   "source": [
    "altitude = array('d')\n",
    "temp = array('d')\n",
    "gravity = array('d')\n",
    "pressure = array('d')\n",
    "density = array('d')\n",
    "viscosity = array('d')"
   ]
  },
  {
   "cell_type": "markdown",
   "metadata": {},
   "source": [
    "Read data from the filem and store in the above python arrays."
   ]
  },
  {
   "cell_type": "code",
   "execution_count": 4,
   "metadata": {},
   "outputs": [],
   "source": [
    "npoints = 0\n",
    "with open('density.txt') as f:\n",
    "    for line in f:\n",
    "        npoints=npoints+1\n",
    "        data = line.split()\n",
    "        altitude.append(float(data[0]))\n",
    "        temp.append(float(data[1]))\n",
    "        gravity.append(float(data[2]))\n",
    "        pressure.append(float(data[3]))\n",
    "        density.append(float(data[4]))\n",
    "        viscosity.append(float(data[5]))\n",
    "        "
   ]
  },
  {
   "cell_type": "code",
   "execution_count": 5,
   "metadata": {},
   "outputs": [],
   "source": [
    "gStyle.SetOptFit(1)"
   ]
  },
  {
   "cell_type": "markdown",
   "metadata": {},
   "source": [
    "Define a ROOT fitting object, based upon the above function.  Set initial parameter values and names."
   ]
  },
  {
   "cell_type": "code",
   "execution_count": 6,
   "metadata": {},
   "outputs": [],
   "source": [
    "pfit1 = TF1(\"myfit\",fitfunction,0.0,80000.0,3)\n",
    "pfit1.SetParameters(10,-0.0001,-0.0000001)\n",
    "pfit1.SetParNames(\"Amplitude,Linear,Quadratic\")"
   ]
  },
  {
   "cell_type": "markdown",
   "metadata": {},
   "source": [
    "Define a ROOT graph object based upon the altitude and density values.  Fit the data with the user-defined function from above. After the fit, print the parameter values and errors."
   ]
  },
  {
   "cell_type": "code",
   "execution_count": 7,
   "metadata": {},
   "outputs": [
    {
     "name": "stdout",
     "output_type": "stream",
     "text": [
      "myfit $p_0$: 12.1 $p_1$: -7.37e-05 $p_2$: -0.00\n",
      "myfit $errp_0$: 0.0545 $errp_1$: 3.28e-06 $errp_2$: 0.00\n",
      "\n",
      "****************************************\n",
      "Minimizer is Minuit / Migrad\n",
      "Chi2                      =    0.0771096\n",
      "NDf                       =           17\n",
      "Edm                       =  1.45528e-08\n",
      "NCalls                    =           90\n",
      "Amplitude,Linear,Quadratic =      12.1441   +/-   0.0544973   \n",
      "p1                        = -7.36624e-05   +/-   3.2756e-06  \n",
      "p2                        = -3.64757e-07   +/-   3.14587e-08 \n"
     ]
    }
   ],
   "source": [
    "gr = TGraph(npoints,altitude,density)\n",
    "gr.SetMarkerColor(3)\n",
    "gr.SetMarkerStyle(21)\n",
    "gr.SetTitle(\"Density\")\n",
    "gr.GetXaxis().SetTitle(\"Altitude (m)\")\n",
    "gr.GetYaxis().SetTitle(\"Density (kg/m^3)\")\n",
    "gr.Fit(\"myfit\",\"S\")\n",
    "\n",
    "par = [pfit1.GetParameter(i) for i in range( 3 )]\n",
    "l = 'myfit $p_0$: {:.3g} $p_1$: {:.3g} $p_2$: {:.2f}'.format(*par)\n",
    "errpar = [pfit1.GetParError(i) for i in range( 3 )]\n",
    "m = 'myfit $errp_0$: {:.3g} $errp_1$: {:.3g} $errp_2$: {:.2f}'.format(*errpar)\n",
    "print (l)\n",
    "print (m)"
   ]
  },
  {
   "cell_type": "markdown",
   "metadata": {},
   "source": [
    "Draw the graph, and the canvas."
   ]
  },
  {
   "cell_type": "code",
   "execution_count": 8,
   "metadata": {},
   "outputs": [
    {
     "data": {
      "image/png": "[encoded data removed]",
      "text/plain": [
       "<IPython.core.display.Image object>"
      ]
     },
     "metadata": {},
     "output_type": "display_data"
    }
   ],
   "source": [
    "gr.Draw(\"AP\")\n",
    "c1.Draw()"
   ]
  },
  {
   "cell_type": "code",
   "execution_count": 9,
   "metadata": {},
   "outputs": [],
   "source": [
    "c1.Update()\n",
    "c1.GetFrame().SetFillColor( 21 )\n",
    "c1.GetFrame().SetBorderSize( 12 )\n",
    "c1.Modified()\n",
    "c1.Update()"
   ]
  },
  {
   "cell_type": "code",
   "execution_count": null,
   "metadata": {},
   "outputs": [],
   "source": []
  }
 ],
 "metadata": {
  "kernelspec": {
   "display_name": "Python 3",
   "language": "python",
   "name": "python3"
  },
  "language_info": {
   "codemirror_mode": {
    "name": "ipython",
    "version": 3
   },
   "file_extension": ".py",
   "mimetype": "text/x-python",
   "name": "python",
   "nbconvert_exporter": "python",
   "pygments_lexer": "ipython3",
   "version": "3.7.3"
  }
 },
 "nbformat": 4,
 "nbformat_minor": 2
}
