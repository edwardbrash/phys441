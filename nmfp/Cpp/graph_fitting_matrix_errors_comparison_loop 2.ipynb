{
 "cells": [
  {
   "cell_type": "code",
   "execution_count": 1,
   "metadata": {},
   "outputs": [
    {
     "name": "stdout",
     "output_type": "stream",
     "text": [
      "Welcome to JupyROOT 6.16/00\n"
     ]
    }
   ],
   "source": [
    "from ROOT import TCanvas, TFile\n",
    "from ROOT import TGraph, TF1, TGraphErrors\n",
    "from ROOT import gStyle\n",
    "from array import array\n",
    "import math\n",
    "import numpy as np\n",
    "import random\n",
    "\n",
    "c1 = TCanvas( 'c1', 'Fitting Example with Errors', 200, 10, 700, 500 )\n",
    "c1.SetGridx()\n",
    "c1.SetGridy()\n",
    "c1.GetFrame().SetFillColor( 21 )\n",
    "c1.GetFrame().SetBorderMode(-1 )\n",
    "c1.GetFrame().SetBorderSize( 5 )\n",
    "c1.Divide(3,2)"
   ]
  },
  {
   "cell_type": "code",
   "execution_count": 2,
   "metadata": {},
   "outputs": [],
   "source": [
    "def generator_function(x,par):\n",
    "    return par[0]+par[1]*x+par[2]*x*x+par[3]*x*x*x\n",
    "\n",
    "par = array('d')\n",
    "par.append(0.4321)\n",
    "par.append(1.6789)\n",
    "par.append(0.50)\n",
    "par.append(1.0000)"
   ]
  },
  {
   "cell_type": "code",
   "execution_count": 3,
   "metadata": {},
   "outputs": [],
   "source": [
    "gStyle.SetOptFit(1)\n",
    "n = 15 #Set the number of data points"
   ]
  },
  {
   "cell_type": "code",
   "execution_count": 4,
   "metadata": {},
   "outputs": [],
   "source": [
    "x = array('d')\n",
    "y = array('d')\n",
    "ex = array('d')\n",
    "ey = array('d')"
   ]
  },
  {
   "cell_type": "code",
   "execution_count": 5,
   "metadata": {},
   "outputs": [],
   "source": [
    "for i in range(0,n):\n",
    "    x.append(i+1)\n",
    "    y.append(generator_function(x[i],par) + 10.0*random.gauss(0.0,1.0))\n",
    "    ex.append(0.0)\n",
    "    ey.append(5.0*math.sqrt(math.fabs(y[i])))"
   ]
  },
  {
   "cell_type": "code",
   "execution_count": 6,
   "metadata": {},
   "outputs": [
    {
     "name": "stdout",
     "output_type": "stream",
     "text": [
      "chi2/dof = 199.373290 / 13.000000\n",
      "Coefficients with Errors:\n",
      "p0 = -185.150091 +/- 16.477157\n",
      "p1 = 108.801635 +/- 5.633006\n",
      "pol1\n",
      "Fit 1: 199.373290 13.000000 \n",
      "\n",
      "chi2/dof = 6.540795 / 12.000000\n",
      "Coefficients with Errors:\n",
      "p0 = 88.379192 +/- 25.680593\n",
      "p1 = -82.314404 +/- 14.870966\n",
      "p2 = 19.074031 +/- 1.373575\n",
      "pol2\n",
      "Fit 1: 6.540795 12.000000 \n",
      "\n",
      "chi2/dof = 0.177321 / 11.000000\n",
      "Coefficients with Errors:\n",
      "p0 = 15.839441 +/- 38.553885\n",
      "p1 = -9.416345 +/- 32.499907\n",
      "p2 = 2.441701 +/- 6.734904\n",
      "p3 = 0.911354 +/- 0.361277\n",
      "pol3\n",
      "Fit 1: 0.177321 11.000000 \n",
      "\n",
      "chi2/dof = 0.106108 / 10.000000\n",
      "Coefficients with Errors:\n",
      "p0 = 27.662816 +/- 58.731703\n",
      "p1 = -25.122340 +/- 67.232331\n",
      "p2 = 8.174641 +/- 22.514067\n",
      "p3 = 0.205402 +/- 2.669980\n",
      "p4 = 0.026729 +/- 0.100160\n",
      "pol4\n",
      "Fit 1: 0.106108 10.000000 \n",
      "\n",
      "chi2/dof = 0.085447 / 9.000000\n",
      "Coefficients with Errors:\n",
      "p0 = 38.586766 +/- 96.048457\n",
      "p1 = -42.847040 +/- 140.450253\n",
      "p2 = 16.995010 +/- 65.364169\n",
      "p3 = -1.535411 +/- 12.401874\n",
      "p4 = 0.170294 +/- 1.003809\n",
      "p5 = -0.004134 +/- 0.028762\n",
      "pol5\n",
      "Fit 1: 0.085447 9.000000 \n",
      "\n",
      "chi2/dof = 0.084994 / 8.000000\n",
      "Coefficients with Errors:\n",
      "p0 = 41.571327 +/- 170.023768\n",
      "p1 = -48.449307 +/- 298.458272\n",
      "p2 = 20.488003 +/- 176.727342\n",
      "p3 = -2.491270 +/- 46.612183\n",
      "p4 = 0.295817 +/- 5.985262\n",
      "p5 = -0.011880 +/- 0.365230\n",
      "p6 = 0.000180 +/- 0.008461\n",
      "pol6\n",
      "Fit 1: 0.084994 8.000000 \n",
      "\n"
     ]
    },
    {
     "data": {
      "image/png": "[encoded data removed]",
      "text/plain": [
       "<IPython.core.display.Image object>"
      ]
     },
     "metadata": {},
     "output_type": "display_data"
    }
   ],
   "source": [
    "title = [\"Linear\",\"Quadratic\",\"Cubic\",\"4th Order\",\"Fifth Order\",\"Sixth Order\"]\n",
    "gr = []\n",
    "max_order = 6\n",
    "chi2list = array('d')\n",
    "mlist = array('d')\n",
    "\n",
    "for m in range(1,max_order+1):\n",
    "    m_params = m + 1\n",
    "    a = np.zeros(shape = (m_params,m_params))\n",
    "    v = np.zeros(shape = (m_params,1))\n",
    "    for k in range(0,m_params):\n",
    "        for i in range(0,n):\n",
    "            v[k][0]=v[k][0]+y[i]*math.pow(x[i],k)/math.pow(ey[i],2)\n",
    "            #print (\"v[%d] = %f\" % (k,v[k][0]))\n",
    "        for j in range(0,m_params):\n",
    "            for i in range(0,n):\n",
    "                a[k][j]=a[k][j]+math.pow(x[i],k+j)/math.pow(ey[i],2)\n",
    "                #print (\"a[%d][%d] = %f\" %(k,j,a[k][j]))\n",
    "        \n",
    "    #print (\"Cofactor matrix:\")\n",
    "    #print (a)\n",
    "    #print (\"Constant matrix:\")\n",
    "    #print (v)\n",
    "\n",
    "    ainv = np.linalg.inv(a)\n",
    "    u1 = np.dot(a,ainv)\n",
    "\n",
    "    #print (\"Inverse matrix\")\n",
    "    #print (ainv)\n",
    "    #print (\"Diagonal Check:\")\n",
    "    #print (u1)\n",
    "    coeff = ainv*np.matrix(v)\n",
    "    #print (\"Coefficients:\")\n",
    "    #print (coeff)\n",
    "    yfit = 0\n",
    "    error_sum = 0\n",
    "    for j in range(0,n):\n",
    "        for k in range(0,m+1):\n",
    "            yfit = yfit + coeff[k]*math.pow(x[j],k)\n",
    "        #print (\"i = %d  y = %f  yfit = %f\" % (j,y[j],yfit))\n",
    "        error_sum = error_sum + math.pow(((yfit-y[j])/ey[j]),2)\n",
    "        yfit = 0\n",
    "    \n",
    "    chi2 = error_sum/(n-m)\n",
    "    chi2list.append(chi2)\n",
    "    mlist.append(m)\n",
    "    print (\"chi2/dof = %f / %f\" % (error_sum,(n-m-1)))\n",
    "    print (\"Coefficients with Errors:\")\n",
    "    for k in range(0,m+1):\n",
    "        print(\"p%d = %f +/- %f\" % (k,coeff[k],math.pow(ainv[k][k],0.5)))\n",
    "    poltype = \"pol\"+str(m)\n",
    "    print (poltype)\n",
    "    gr.append(TGraphErrors(n,x,y,ex,ey))\n",
    "    pfit1 = TF1(\"pfit1\",poltype)\n",
    "    gr[m-1].SetMarkerStyle(21)\n",
    "    gr[m-1].SetTitle(title[m-1])\n",
    "    gr[m-1].GetXaxis().SetTitle(\"X\")\n",
    "    gr[m-1].GetYaxis().SetTitle(\"Y\")\n",
    "    gr[m-1].Fit(\"pfit1\",\"q\")\n",
    "    pfit1chi2 = pfit1.GetChisquare()\n",
    "    pfit1ndf = pfit1.GetNDF()\n",
    "    pfit1chi2ndf = pfit1chi2/pfit1ndf\n",
    "    print(\"Fit 1: %f %f \\n\" % (pfit1chi2,pfit1ndf))\n",
    "    c1.cd(m)\n",
    "    gr[m-1].Draw(\"AP\")\n",
    "\n",
    "c1.Draw()"
   ]
  },
  {
   "cell_type": "code",
   "execution_count": 7,
   "metadata": {},
   "outputs": [
    {
     "data": {
      "image/png": "[encoded data removed]",
      "text/plain": [
       "<IPython.core.display.Image object>"
      ]
     },
     "metadata": {},
     "output_type": "display_data"
    }
   ],
   "source": [
    "c2 = TCanvas( 'c2', 'Reduced Chi2', 200, 10, 700, 500 )\n",
    "c2.SetGridx()\n",
    "c2.SetGridy()\n",
    "c2.GetFrame().SetFillColor( 21 )\n",
    "c2.GetFrame().SetBorderMode(-1 )\n",
    "c2.GetFrame().SetBorderSize( 5 )\n",
    "c2.cd()\n",
    "c2.SetLogy()\n",
    "\n",
    "gr2 = TGraphErrors(max_order,mlist,chi2list)\n",
    "gr2.SetMarkerStyle(21)\n",
    "gr2.SetTitle(\"Reduced Chi2\")\n",
    "gr2.GetXaxis().SetTitle(\"X\")\n",
    "gr2.GetYaxis().SetTitle(\"Y\")\n",
    "gr2.Draw(\"AP\")\n",
    "c2.Draw()"
   ]
  },
  {
   "cell_type": "code",
   "execution_count": 8,
   "metadata": {},
   "outputs": [
    {
     "name": "stdout",
     "output_type": "stream",
     "text": [
      "F = 28.304255 ... m1 = 1, m2 = 2 ... F_low = 0.005013, F_high = 18.512821\n",
      "F = 34.049372 ... m1 = 2, m2 = 3 ... F_low = 0.052180, F_high = 9.552094\n",
      "F = 1.531880 ... m1 = 3, m2 = 4 ... F_low = 0.109683, F_high = 6.591382\n",
      "F = 1.128903 ... m1 = 4, m2 = 5 ... F_low = 0.159845, F_high = 5.192168\n",
      "F = 0.904792 ... m1 = 5, m2 = 6 ... F_low = 0.202008, F_high = 4.387374\n"
     ]
    }
   ],
   "source": [
    "import scipy.stats as stats\n",
    "for m in range(1,max_order):\n",
    "    fvalue = chi2list[m-1]/chi2list[m]\n",
    "    fdistribution = stats.f(m,m+1)\n",
    "    f_critical1 = fdistribution.ppf(0.05)\n",
    "    f_critical2 = fdistribution.ppf(0.95)\n",
    "    print(\"F = %f ... m1 = %d, m2 = %d ... F_low = %f, F_high = %f\" % (fvalue,m,m+1,f_critical1,f_critical2))"
   ]
  },
  {
   "cell_type": "code",
   "execution_count": null,
   "metadata": {},
   "outputs": [],
   "source": []
  },
  {
   "cell_type": "code",
   "execution_count": null,
   "metadata": {},
   "outputs": [],
   "source": []
  },
  {
   "cell_type": "code",
   "execution_count": null,
   "metadata": {},
   "outputs": [],
   "source": []
  },
  {
   "cell_type": "code",
   "execution_count": null,
   "metadata": {},
   "outputs": [],
   "source": []
  }
 ],
 "metadata": {
  "kernelspec": {
   "display_name": "Python 3",
   "language": "python",
   "name": "python3"
  },
  "language_info": {
   "codemirror_mode": {
    "name": "ipython",
    "version": 3
   },
   "file_extension": ".py",
   "mimetype": "text/x-python",
   "name": "python",
   "nbconvert_exporter": "python",
   "pygments_lexer": "ipython3",
   "version": "3.7.3"
  }
 },
 "nbformat": 4,
 "nbformat_minor": 2
}
